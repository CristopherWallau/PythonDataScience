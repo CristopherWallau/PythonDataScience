{
  "cells": [
    {
      "cell_type": "markdown",
      "metadata": {
        "id": "view-in-github",
        "colab_type": "text"
      },
      "source": [
        "<a href=\"https://colab.research.google.com/github/CristopherWallau/PythonDataScience/blob/main/Projeto_Evcomx.ipynb\" target=\"_parent\"><img src=\"https://colab.research.google.com/assets/colab-badge.svg\" alt=\"Open In Colab\"/></a>"
      ]
    },
    {
      "cell_type": "markdown",
      "metadata": {
        "id": "GE2uEqGv2L5d"
      },
      "source": [
        "# **Pré-processamento**\n"
      ]
    },
    {
      "cell_type": "markdown",
      "metadata": {
        "id": "BoN1k5yX8Efg"
      },
      "source": [
        "**Importação**"
      ]
    },
    {
      "cell_type": "code",
      "execution_count": null,
      "metadata": {
        "id": "suTbuC_X1qIN"
      },
      "outputs": [],
      "source": [
        "import pandas as pd"
      ]
    },
    {
      "cell_type": "code",
      "execution_count": null,
      "metadata": {
        "id": "Y5Eg-Dr6HXUQ"
      },
      "outputs": [],
      "source": [
        "df = pd.read_csv('dados_fundo_do_amanha_evcomx.csv', sep=';')"
      ]
    },
    {
      "cell_type": "code",
      "execution_count": null,
      "metadata": {
        "id": "UsOMigwa2_7v",
        "outputId": "8f2d8ba7-b251-4784-c26c-c277bb98d895",
        "colab": {
          "base_uri": "https://localhost:8080/",
          "height": 382
        }
      },
      "outputs": [
        {
          "output_type": "execute_result",
          "data": {
            "text/plain": [
              "   corrida  secao  acoatual qualidade  al_min  c_min  c_max  n_min  s_min  \\\n",
              "0     7691  180.0  336236CB  1F3F501C    0.02   0.16   0.18   0.01   0.01   \n",
              "1     7691  180.0  336236CB  1F3F501C    0.02   0.16   0.18   0.01   0.01   \n",
              "2     7691  180.0  EFDB105A  1F3F501C    0.02   0.18   0.20   0.01   0.01   \n",
              "3     7691  180.0  EFDB105A  1F3F501C    0.02   0.18   0.20   0.01   0.01   \n",
              "4     7691  180.0  EFDB105A  1F3F501C    0.02   0.18   0.20   0.01   0.01   \n",
              "5     7691  180.0  EFDB105A  1F3F501C    0.02   0.18   0.20   0.01   0.01   \n",
              "6     7690  180.0  D7B079C7  1F3F501C    0.02   0.14   0.16   0.01   0.01   \n",
              "7     7690  180.0  D7B079C7  1F3F501C    0.02   0.14   0.16   0.01   0.01   \n",
              "8     7690  180.0  D7B079C7  1F3F501C    0.02   0.14   0.16   0.01   0.01   \n",
              "9     7690  180.0  D7B079C7  1F3F501C    0.02   0.14   0.16   0.01   0.01   \n",
              "\n",
              "   sequencia  sequenciatotal  panela  vidapanela  tempociclo  tempovacuototal  \\\n",
              "0        2.0             2.0    15.0        15.0      2557.0             46.0   \n",
              "1        2.0             2.0    15.0        15.0      2557.0             46.0   \n",
              "2        2.0             2.0    15.0        15.0      2557.0             46.0   \n",
              "3        2.0             2.0    15.0        15.0      2557.0             46.0   \n",
              "4        2.0             2.0    15.0        15.0      2557.0             46.0   \n",
              "5        2.0             2.0    15.0        15.0      2557.0             46.0   \n",
              "6        1.0             2.0    16.0         4.0       959.0             51.0   \n",
              "7        1.0             2.0    16.0         4.0       959.0             51.0   \n",
              "8        1.0             2.0    16.0         4.0       959.0             55.0   \n",
              "9        1.0             2.0    16.0         4.0       959.0             55.0   \n",
              "\n",
              "   temperaturaliquidus  velocidadeobjetivada  velocidadereal  \\\n",
              "0               1503.0                  0.85            0.86   \n",
              "1               1503.0                  0.85            0.86   \n",
              "2               1503.0                  0.85            0.86   \n",
              "3               1503.0                  0.85            0.86   \n",
              "4               1503.0                  0.85            0.86   \n",
              "5               1503.0                  0.85            0.86   \n",
              "6               1503.0                  0.85            0.85   \n",
              "7               1503.0                  0.85            0.85   \n",
              "8               1503.0                  0.85            0.85   \n",
              "9               1503.0                  0.85            0.85   \n",
              "\n",
              "   sugestaomodelolegado  temperaturasaidafp  temperaturaobjetivada  \\\n",
              "0                  1648                1670                 1543.0   \n",
              "1                  1652                1672                 1543.0   \n",
              "2                  1650                1670                 1543.0   \n",
              "3                  1655                1672                 1543.0   \n",
              "4                  1648                1670                 1543.0   \n",
              "5                  1651                1672                 1543.0   \n",
              "6                  1674                1678                 1543.0   \n",
              "7                  1681                1678                 1543.0   \n",
              "8                  1680                1678                 1543.0   \n",
              "9                  1677                1678                 1543.0   \n",
              "\n",
              "   temperaturamediareal  \n",
              "0                1555.0  \n",
              "1                1555.0  \n",
              "2                1555.0  \n",
              "3                1555.0  \n",
              "4                1555.0  \n",
              "5                1555.0  \n",
              "6                1547.0  \n",
              "7                1547.0  \n",
              "8                1547.0  \n",
              "9                1547.0  "
            ],
            "text/html": [
              "\n",
              "  <div id=\"df-d665cbc5-de1a-4faa-aa16-b82838359a11\" class=\"colab-df-container\">\n",
              "    <div>\n",
              "<style scoped>\n",
              "    .dataframe tbody tr th:only-of-type {\n",
              "        vertical-align: middle;\n",
              "    }\n",
              "\n",
              "    .dataframe tbody tr th {\n",
              "        vertical-align: top;\n",
              "    }\n",
              "\n",
              "    .dataframe thead th {\n",
              "        text-align: right;\n",
              "    }\n",
              "</style>\n",
              "<table border=\"1\" class=\"dataframe\">\n",
              "  <thead>\n",
              "    <tr style=\"text-align: right;\">\n",
              "      <th></th>\n",
              "      <th>corrida</th>\n",
              "      <th>secao</th>\n",
              "      <th>acoatual</th>\n",
              "      <th>qualidade</th>\n",
              "      <th>al_min</th>\n",
              "      <th>c_min</th>\n",
              "      <th>c_max</th>\n",
              "      <th>n_min</th>\n",
              "      <th>s_min</th>\n",
              "      <th>sequencia</th>\n",
              "      <th>sequenciatotal</th>\n",
              "      <th>panela</th>\n",
              "      <th>vidapanela</th>\n",
              "      <th>tempociclo</th>\n",
              "      <th>tempovacuototal</th>\n",
              "      <th>temperaturaliquidus</th>\n",
              "      <th>velocidadeobjetivada</th>\n",
              "      <th>velocidadereal</th>\n",
              "      <th>sugestaomodelolegado</th>\n",
              "      <th>temperaturasaidafp</th>\n",
              "      <th>temperaturaobjetivada</th>\n",
              "      <th>temperaturamediareal</th>\n",
              "    </tr>\n",
              "  </thead>\n",
              "  <tbody>\n",
              "    <tr>\n",
              "      <th>0</th>\n",
              "      <td>7691</td>\n",
              "      <td>180.0</td>\n",
              "      <td>336236CB</td>\n",
              "      <td>1F3F501C</td>\n",
              "      <td>0.02</td>\n",
              "      <td>0.16</td>\n",
              "      <td>0.18</td>\n",
              "      <td>0.01</td>\n",
              "      <td>0.01</td>\n",
              "      <td>2.0</td>\n",
              "      <td>2.0</td>\n",
              "      <td>15.0</td>\n",
              "      <td>15.0</td>\n",
              "      <td>2557.0</td>\n",
              "      <td>46.0</td>\n",
              "      <td>1503.0</td>\n",
              "      <td>0.85</td>\n",
              "      <td>0.86</td>\n",
              "      <td>1648</td>\n",
              "      <td>1670</td>\n",
              "      <td>1543.0</td>\n",
              "      <td>1555.0</td>\n",
              "    </tr>\n",
              "    <tr>\n",
              "      <th>1</th>\n",
              "      <td>7691</td>\n",
              "      <td>180.0</td>\n",
              "      <td>336236CB</td>\n",
              "      <td>1F3F501C</td>\n",
              "      <td>0.02</td>\n",
              "      <td>0.16</td>\n",
              "      <td>0.18</td>\n",
              "      <td>0.01</td>\n",
              "      <td>0.01</td>\n",
              "      <td>2.0</td>\n",
              "      <td>2.0</td>\n",
              "      <td>15.0</td>\n",
              "      <td>15.0</td>\n",
              "      <td>2557.0</td>\n",
              "      <td>46.0</td>\n",
              "      <td>1503.0</td>\n",
              "      <td>0.85</td>\n",
              "      <td>0.86</td>\n",
              "      <td>1652</td>\n",
              "      <td>1672</td>\n",
              "      <td>1543.0</td>\n",
              "      <td>1555.0</td>\n",
              "    </tr>\n",
              "    <tr>\n",
              "      <th>2</th>\n",
              "      <td>7691</td>\n",
              "      <td>180.0</td>\n",
              "      <td>EFDB105A</td>\n",
              "      <td>1F3F501C</td>\n",
              "      <td>0.02</td>\n",
              "      <td>0.18</td>\n",
              "      <td>0.20</td>\n",
              "      <td>0.01</td>\n",
              "      <td>0.01</td>\n",
              "      <td>2.0</td>\n",
              "      <td>2.0</td>\n",
              "      <td>15.0</td>\n",
              "      <td>15.0</td>\n",
              "      <td>2557.0</td>\n",
              "      <td>46.0</td>\n",
              "      <td>1503.0</td>\n",
              "      <td>0.85</td>\n",
              "      <td>0.86</td>\n",
              "      <td>1650</td>\n",
              "      <td>1670</td>\n",
              "      <td>1543.0</td>\n",
              "      <td>1555.0</td>\n",
              "    </tr>\n",
              "    <tr>\n",
              "      <th>3</th>\n",
              "      <td>7691</td>\n",
              "      <td>180.0</td>\n",
              "      <td>EFDB105A</td>\n",
              "      <td>1F3F501C</td>\n",
              "      <td>0.02</td>\n",
              "      <td>0.18</td>\n",
              "      <td>0.20</td>\n",
              "      <td>0.01</td>\n",
              "      <td>0.01</td>\n",
              "      <td>2.0</td>\n",
              "      <td>2.0</td>\n",
              "      <td>15.0</td>\n",
              "      <td>15.0</td>\n",
              "      <td>2557.0</td>\n",
              "      <td>46.0</td>\n",
              "      <td>1503.0</td>\n",
              "      <td>0.85</td>\n",
              "      <td>0.86</td>\n",
              "      <td>1655</td>\n",
              "      <td>1672</td>\n",
              "      <td>1543.0</td>\n",
              "      <td>1555.0</td>\n",
              "    </tr>\n",
              "    <tr>\n",
              "      <th>4</th>\n",
              "      <td>7691</td>\n",
              "      <td>180.0</td>\n",
              "      <td>EFDB105A</td>\n",
              "      <td>1F3F501C</td>\n",
              "      <td>0.02</td>\n",
              "      <td>0.18</td>\n",
              "      <td>0.20</td>\n",
              "      <td>0.01</td>\n",
              "      <td>0.01</td>\n",
              "      <td>2.0</td>\n",
              "      <td>2.0</td>\n",
              "      <td>15.0</td>\n",
              "      <td>15.0</td>\n",
              "      <td>2557.0</td>\n",
              "      <td>46.0</td>\n",
              "      <td>1503.0</td>\n",
              "      <td>0.85</td>\n",
              "      <td>0.86</td>\n",
              "      <td>1648</td>\n",
              "      <td>1670</td>\n",
              "      <td>1543.0</td>\n",
              "      <td>1555.0</td>\n",
              "    </tr>\n",
              "    <tr>\n",
              "      <th>5</th>\n",
              "      <td>7691</td>\n",
              "      <td>180.0</td>\n",
              "      <td>EFDB105A</td>\n",
              "      <td>1F3F501C</td>\n",
              "      <td>0.02</td>\n",
              "      <td>0.18</td>\n",
              "      <td>0.20</td>\n",
              "      <td>0.01</td>\n",
              "      <td>0.01</td>\n",
              "      <td>2.0</td>\n",
              "      <td>2.0</td>\n",
              "      <td>15.0</td>\n",
              "      <td>15.0</td>\n",
              "      <td>2557.0</td>\n",
              "      <td>46.0</td>\n",
              "      <td>1503.0</td>\n",
              "      <td>0.85</td>\n",
              "      <td>0.86</td>\n",
              "      <td>1651</td>\n",
              "      <td>1672</td>\n",
              "      <td>1543.0</td>\n",
              "      <td>1555.0</td>\n",
              "    </tr>\n",
              "    <tr>\n",
              "      <th>6</th>\n",
              "      <td>7690</td>\n",
              "      <td>180.0</td>\n",
              "      <td>D7B079C7</td>\n",
              "      <td>1F3F501C</td>\n",
              "      <td>0.02</td>\n",
              "      <td>0.14</td>\n",
              "      <td>0.16</td>\n",
              "      <td>0.01</td>\n",
              "      <td>0.01</td>\n",
              "      <td>1.0</td>\n",
              "      <td>2.0</td>\n",
              "      <td>16.0</td>\n",
              "      <td>4.0</td>\n",
              "      <td>959.0</td>\n",
              "      <td>51.0</td>\n",
              "      <td>1503.0</td>\n",
              "      <td>0.85</td>\n",
              "      <td>0.85</td>\n",
              "      <td>1674</td>\n",
              "      <td>1678</td>\n",
              "      <td>1543.0</td>\n",
              "      <td>1547.0</td>\n",
              "    </tr>\n",
              "    <tr>\n",
              "      <th>7</th>\n",
              "      <td>7690</td>\n",
              "      <td>180.0</td>\n",
              "      <td>D7B079C7</td>\n",
              "      <td>1F3F501C</td>\n",
              "      <td>0.02</td>\n",
              "      <td>0.14</td>\n",
              "      <td>0.16</td>\n",
              "      <td>0.01</td>\n",
              "      <td>0.01</td>\n",
              "      <td>1.0</td>\n",
              "      <td>2.0</td>\n",
              "      <td>16.0</td>\n",
              "      <td>4.0</td>\n",
              "      <td>959.0</td>\n",
              "      <td>51.0</td>\n",
              "      <td>1503.0</td>\n",
              "      <td>0.85</td>\n",
              "      <td>0.85</td>\n",
              "      <td>1681</td>\n",
              "      <td>1678</td>\n",
              "      <td>1543.0</td>\n",
              "      <td>1547.0</td>\n",
              "    </tr>\n",
              "    <tr>\n",
              "      <th>8</th>\n",
              "      <td>7690</td>\n",
              "      <td>180.0</td>\n",
              "      <td>D7B079C7</td>\n",
              "      <td>1F3F501C</td>\n",
              "      <td>0.02</td>\n",
              "      <td>0.14</td>\n",
              "      <td>0.16</td>\n",
              "      <td>0.01</td>\n",
              "      <td>0.01</td>\n",
              "      <td>1.0</td>\n",
              "      <td>2.0</td>\n",
              "      <td>16.0</td>\n",
              "      <td>4.0</td>\n",
              "      <td>959.0</td>\n",
              "      <td>55.0</td>\n",
              "      <td>1503.0</td>\n",
              "      <td>0.85</td>\n",
              "      <td>0.85</td>\n",
              "      <td>1680</td>\n",
              "      <td>1678</td>\n",
              "      <td>1543.0</td>\n",
              "      <td>1547.0</td>\n",
              "    </tr>\n",
              "    <tr>\n",
              "      <th>9</th>\n",
              "      <td>7690</td>\n",
              "      <td>180.0</td>\n",
              "      <td>D7B079C7</td>\n",
              "      <td>1F3F501C</td>\n",
              "      <td>0.02</td>\n",
              "      <td>0.14</td>\n",
              "      <td>0.16</td>\n",
              "      <td>0.01</td>\n",
              "      <td>0.01</td>\n",
              "      <td>1.0</td>\n",
              "      <td>2.0</td>\n",
              "      <td>16.0</td>\n",
              "      <td>4.0</td>\n",
              "      <td>959.0</td>\n",
              "      <td>55.0</td>\n",
              "      <td>1503.0</td>\n",
              "      <td>0.85</td>\n",
              "      <td>0.85</td>\n",
              "      <td>1677</td>\n",
              "      <td>1678</td>\n",
              "      <td>1543.0</td>\n",
              "      <td>1547.0</td>\n",
              "    </tr>\n",
              "  </tbody>\n",
              "</table>\n",
              "</div>\n",
              "    <div class=\"colab-df-buttons\">\n",
              "\n",
              "  <div class=\"colab-df-container\">\n",
              "    <button class=\"colab-df-convert\" onclick=\"convertToInteractive('df-d665cbc5-de1a-4faa-aa16-b82838359a11')\"\n",
              "            title=\"Convert this dataframe to an interactive table.\"\n",
              "            style=\"display:none;\">\n",
              "\n",
              "  <svg xmlns=\"http://www.w3.org/2000/svg\" height=\"24px\" viewBox=\"0 -960 960 960\">\n",
              "    <path d=\"M120-120v-720h720v720H120Zm60-500h600v-160H180v160Zm220 220h160v-160H400v160Zm0 220h160v-160H400v160ZM180-400h160v-160H180v160Zm440 0h160v-160H620v160ZM180-180h160v-160H180v160Zm440 0h160v-160H620v160Z\"/>\n",
              "  </svg>\n",
              "    </button>\n",
              "\n",
              "  <style>\n",
              "    .colab-df-container {\n",
              "      display:flex;\n",
              "      gap: 12px;\n",
              "    }\n",
              "\n",
              "    .colab-df-convert {\n",
              "      background-color: #E8F0FE;\n",
              "      border: none;\n",
              "      border-radius: 50%;\n",
              "      cursor: pointer;\n",
              "      display: none;\n",
              "      fill: #1967D2;\n",
              "      height: 32px;\n",
              "      padding: 0 0 0 0;\n",
              "      width: 32px;\n",
              "    }\n",
              "\n",
              "    .colab-df-convert:hover {\n",
              "      background-color: #E2EBFA;\n",
              "      box-shadow: 0px 1px 2px rgba(60, 64, 67, 0.3), 0px 1px 3px 1px rgba(60, 64, 67, 0.15);\n",
              "      fill: #174EA6;\n",
              "    }\n",
              "\n",
              "    .colab-df-buttons div {\n",
              "      margin-bottom: 4px;\n",
              "    }\n",
              "\n",
              "    [theme=dark] .colab-df-convert {\n",
              "      background-color: #3B4455;\n",
              "      fill: #D2E3FC;\n",
              "    }\n",
              "\n",
              "    [theme=dark] .colab-df-convert:hover {\n",
              "      background-color: #434B5C;\n",
              "      box-shadow: 0px 1px 3px 1px rgba(0, 0, 0, 0.15);\n",
              "      filter: drop-shadow(0px 1px 2px rgba(0, 0, 0, 0.3));\n",
              "      fill: #FFFFFF;\n",
              "    }\n",
              "  </style>\n",
              "\n",
              "    <script>\n",
              "      const buttonEl =\n",
              "        document.querySelector('#df-d665cbc5-de1a-4faa-aa16-b82838359a11 button.colab-df-convert');\n",
              "      buttonEl.style.display =\n",
              "        google.colab.kernel.accessAllowed ? 'block' : 'none';\n",
              "\n",
              "      async function convertToInteractive(key) {\n",
              "        const element = document.querySelector('#df-d665cbc5-de1a-4faa-aa16-b82838359a11');\n",
              "        const dataTable =\n",
              "          await google.colab.kernel.invokeFunction('convertToInteractive',\n",
              "                                                    [key], {});\n",
              "        if (!dataTable) return;\n",
              "\n",
              "        const docLinkHtml = 'Like what you see? Visit the ' +\n",
              "          '<a target=\"_blank\" href=https://colab.research.google.com/notebooks/data_table.ipynb>data table notebook</a>'\n",
              "          + ' to learn more about interactive tables.';\n",
              "        element.innerHTML = '';\n",
              "        dataTable['output_type'] = 'display_data';\n",
              "        await google.colab.output.renderOutput(dataTable, element);\n",
              "        const docLink = document.createElement('div');\n",
              "        docLink.innerHTML = docLinkHtml;\n",
              "        element.appendChild(docLink);\n",
              "      }\n",
              "    </script>\n",
              "  </div>\n",
              "\n",
              "\n",
              "    <div id=\"df-a319d7d7-46cf-484e-b83a-18779728dde2\">\n",
              "      <button class=\"colab-df-quickchart\" onclick=\"quickchart('df-a319d7d7-46cf-484e-b83a-18779728dde2')\"\n",
              "                title=\"Suggest charts\"\n",
              "                style=\"display:none;\">\n",
              "\n",
              "<svg xmlns=\"http://www.w3.org/2000/svg\" height=\"24px\"viewBox=\"0 0 24 24\"\n",
              "     width=\"24px\">\n",
              "    <g>\n",
              "        <path d=\"M19 3H5c-1.1 0-2 .9-2 2v14c0 1.1.9 2 2 2h14c1.1 0 2-.9 2-2V5c0-1.1-.9-2-2-2zM9 17H7v-7h2v7zm4 0h-2V7h2v10zm4 0h-2v-4h2v4z\"/>\n",
              "    </g>\n",
              "</svg>\n",
              "      </button>\n",
              "\n",
              "<style>\n",
              "  .colab-df-quickchart {\n",
              "      --bg-color: #E8F0FE;\n",
              "      --fill-color: #1967D2;\n",
              "      --hover-bg-color: #E2EBFA;\n",
              "      --hover-fill-color: #174EA6;\n",
              "      --disabled-fill-color: #AAA;\n",
              "      --disabled-bg-color: #DDD;\n",
              "  }\n",
              "\n",
              "  [theme=dark] .colab-df-quickchart {\n",
              "      --bg-color: #3B4455;\n",
              "      --fill-color: #D2E3FC;\n",
              "      --hover-bg-color: #434B5C;\n",
              "      --hover-fill-color: #FFFFFF;\n",
              "      --disabled-bg-color: #3B4455;\n",
              "      --disabled-fill-color: #666;\n",
              "  }\n",
              "\n",
              "  .colab-df-quickchart {\n",
              "    background-color: var(--bg-color);\n",
              "    border: none;\n",
              "    border-radius: 50%;\n",
              "    cursor: pointer;\n",
              "    display: none;\n",
              "    fill: var(--fill-color);\n",
              "    height: 32px;\n",
              "    padding: 0;\n",
              "    width: 32px;\n",
              "  }\n",
              "\n",
              "  .colab-df-quickchart:hover {\n",
              "    background-color: var(--hover-bg-color);\n",
              "    box-shadow: 0 1px 2px rgba(60, 64, 67, 0.3), 0 1px 3px 1px rgba(60, 64, 67, 0.15);\n",
              "    fill: var(--button-hover-fill-color);\n",
              "  }\n",
              "\n",
              "  .colab-df-quickchart-complete:disabled,\n",
              "  .colab-df-quickchart-complete:disabled:hover {\n",
              "    background-color: var(--disabled-bg-color);\n",
              "    fill: var(--disabled-fill-color);\n",
              "    box-shadow: none;\n",
              "  }\n",
              "\n",
              "  .colab-df-spinner {\n",
              "    border: 2px solid var(--fill-color);\n",
              "    border-color: transparent;\n",
              "    border-bottom-color: var(--fill-color);\n",
              "    animation:\n",
              "      spin 1s steps(1) infinite;\n",
              "  }\n",
              "\n",
              "  @keyframes spin {\n",
              "    0% {\n",
              "      border-color: transparent;\n",
              "      border-bottom-color: var(--fill-color);\n",
              "      border-left-color: var(--fill-color);\n",
              "    }\n",
              "    20% {\n",
              "      border-color: transparent;\n",
              "      border-left-color: var(--fill-color);\n",
              "      border-top-color: var(--fill-color);\n",
              "    }\n",
              "    30% {\n",
              "      border-color: transparent;\n",
              "      border-left-color: var(--fill-color);\n",
              "      border-top-color: var(--fill-color);\n",
              "      border-right-color: var(--fill-color);\n",
              "    }\n",
              "    40% {\n",
              "      border-color: transparent;\n",
              "      border-right-color: var(--fill-color);\n",
              "      border-top-color: var(--fill-color);\n",
              "    }\n",
              "    60% {\n",
              "      border-color: transparent;\n",
              "      border-right-color: var(--fill-color);\n",
              "    }\n",
              "    80% {\n",
              "      border-color: transparent;\n",
              "      border-right-color: var(--fill-color);\n",
              "      border-bottom-color: var(--fill-color);\n",
              "    }\n",
              "    90% {\n",
              "      border-color: transparent;\n",
              "      border-bottom-color: var(--fill-color);\n",
              "    }\n",
              "  }\n",
              "</style>\n",
              "\n",
              "      <script>\n",
              "        async function quickchart(key) {\n",
              "          const quickchartButtonEl =\n",
              "            document.querySelector('#' + key + ' button');\n",
              "          quickchartButtonEl.disabled = true;  // To prevent multiple clicks.\n",
              "          quickchartButtonEl.classList.add('colab-df-spinner');\n",
              "          try {\n",
              "            const charts = await google.colab.kernel.invokeFunction(\n",
              "                'suggestCharts', [key], {});\n",
              "          } catch (error) {\n",
              "            console.error('Error during call to suggestCharts:', error);\n",
              "          }\n",
              "          quickchartButtonEl.classList.remove('colab-df-spinner');\n",
              "          quickchartButtonEl.classList.add('colab-df-quickchart-complete');\n",
              "        }\n",
              "        (() => {\n",
              "          let quickchartButtonEl =\n",
              "            document.querySelector('#df-a319d7d7-46cf-484e-b83a-18779728dde2 button');\n",
              "          quickchartButtonEl.style.display =\n",
              "            google.colab.kernel.accessAllowed ? 'block' : 'none';\n",
              "        })();\n",
              "      </script>\n",
              "    </div>\n",
              "\n",
              "    </div>\n",
              "  </div>\n"
            ],
            "application/vnd.google.colaboratory.intrinsic+json": {
              "type": "dataframe",
              "variable_name": "df"
            }
          },
          "metadata": {},
          "execution_count": 3
        }
      ],
      "source": [
        "pd.set_option('display.max_columns', 22)\n",
        "df.head(n=10)"
      ]
    },
    {
      "cell_type": "markdown",
      "metadata": {
        "id": "T4xmL2v28I3Y"
      },
      "source": [
        "**Tamanho**"
      ]
    },
    {
      "cell_type": "code",
      "execution_count": null,
      "metadata": {
        "id": "kiLvKYx83s1T",
        "outputId": "1094d526-18a9-4581-cd28-c4a6bb92dac9",
        "colab": {
          "base_uri": "https://localhost:8080/"
        }
      },
      "outputs": [
        {
          "output_type": "execute_result",
          "data": {
            "text/plain": [
              "(48658, 22)"
            ]
          },
          "metadata": {},
          "execution_count": 4
        }
      ],
      "source": [
        "df.shape"
      ]
    },
    {
      "cell_type": "markdown",
      "metadata": {
        "id": "plAQ_JMf8hbj"
      },
      "source": [
        "**Tipo**"
      ]
    },
    {
      "cell_type": "code",
      "execution_count": null,
      "metadata": {
        "id": "SLJ8_YhU8czX",
        "outputId": "cf423710-1439-41b0-ccc0-502cd41530d9",
        "colab": {
          "base_uri": "https://localhost:8080/",
          "height": 773
        }
      },
      "outputs": [
        {
          "output_type": "execute_result",
          "data": {
            "text/plain": [
              "corrida                    int64\n",
              "secao                    float64\n",
              "acoatual                  object\n",
              "qualidade                 object\n",
              "al_min                   float64\n",
              "c_min                    float64\n",
              "c_max                    float64\n",
              "n_min                    float64\n",
              "s_min                    float64\n",
              "sequencia                float64\n",
              "sequenciatotal           float64\n",
              "panela                   float64\n",
              "vidapanela               float64\n",
              "tempociclo               float64\n",
              "tempovacuototal          float64\n",
              "temperaturaliquidus      float64\n",
              "velocidadeobjetivada     float64\n",
              "velocidadereal           float64\n",
              "sugestaomodelolegado       int64\n",
              "temperaturasaidafp         int64\n",
              "temperaturaobjetivada    float64\n",
              "temperaturamediareal     float64\n",
              "dtype: object"
            ],
            "text/html": [
              "<div>\n",
              "<style scoped>\n",
              "    .dataframe tbody tr th:only-of-type {\n",
              "        vertical-align: middle;\n",
              "    }\n",
              "\n",
              "    .dataframe tbody tr th {\n",
              "        vertical-align: top;\n",
              "    }\n",
              "\n",
              "    .dataframe thead th {\n",
              "        text-align: right;\n",
              "    }\n",
              "</style>\n",
              "<table border=\"1\" class=\"dataframe\">\n",
              "  <thead>\n",
              "    <tr style=\"text-align: right;\">\n",
              "      <th></th>\n",
              "      <th>0</th>\n",
              "    </tr>\n",
              "  </thead>\n",
              "  <tbody>\n",
              "    <tr>\n",
              "      <th>corrida</th>\n",
              "      <td>int64</td>\n",
              "    </tr>\n",
              "    <tr>\n",
              "      <th>secao</th>\n",
              "      <td>float64</td>\n",
              "    </tr>\n",
              "    <tr>\n",
              "      <th>acoatual</th>\n",
              "      <td>object</td>\n",
              "    </tr>\n",
              "    <tr>\n",
              "      <th>qualidade</th>\n",
              "      <td>object</td>\n",
              "    </tr>\n",
              "    <tr>\n",
              "      <th>al_min</th>\n",
              "      <td>float64</td>\n",
              "    </tr>\n",
              "    <tr>\n",
              "      <th>c_min</th>\n",
              "      <td>float64</td>\n",
              "    </tr>\n",
              "    <tr>\n",
              "      <th>c_max</th>\n",
              "      <td>float64</td>\n",
              "    </tr>\n",
              "    <tr>\n",
              "      <th>n_min</th>\n",
              "      <td>float64</td>\n",
              "    </tr>\n",
              "    <tr>\n",
              "      <th>s_min</th>\n",
              "      <td>float64</td>\n",
              "    </tr>\n",
              "    <tr>\n",
              "      <th>sequencia</th>\n",
              "      <td>float64</td>\n",
              "    </tr>\n",
              "    <tr>\n",
              "      <th>sequenciatotal</th>\n",
              "      <td>float64</td>\n",
              "    </tr>\n",
              "    <tr>\n",
              "      <th>panela</th>\n",
              "      <td>float64</td>\n",
              "    </tr>\n",
              "    <tr>\n",
              "      <th>vidapanela</th>\n",
              "      <td>float64</td>\n",
              "    </tr>\n",
              "    <tr>\n",
              "      <th>tempociclo</th>\n",
              "      <td>float64</td>\n",
              "    </tr>\n",
              "    <tr>\n",
              "      <th>tempovacuototal</th>\n",
              "      <td>float64</td>\n",
              "    </tr>\n",
              "    <tr>\n",
              "      <th>temperaturaliquidus</th>\n",
              "      <td>float64</td>\n",
              "    </tr>\n",
              "    <tr>\n",
              "      <th>velocidadeobjetivada</th>\n",
              "      <td>float64</td>\n",
              "    </tr>\n",
              "    <tr>\n",
              "      <th>velocidadereal</th>\n",
              "      <td>float64</td>\n",
              "    </tr>\n",
              "    <tr>\n",
              "      <th>sugestaomodelolegado</th>\n",
              "      <td>int64</td>\n",
              "    </tr>\n",
              "    <tr>\n",
              "      <th>temperaturasaidafp</th>\n",
              "      <td>int64</td>\n",
              "    </tr>\n",
              "    <tr>\n",
              "      <th>temperaturaobjetivada</th>\n",
              "      <td>float64</td>\n",
              "    </tr>\n",
              "    <tr>\n",
              "      <th>temperaturamediareal</th>\n",
              "      <td>float64</td>\n",
              "    </tr>\n",
              "  </tbody>\n",
              "</table>\n",
              "</div><br><label><b>dtype:</b> object</label>"
            ]
          },
          "metadata": {},
          "execution_count": 5
        }
      ],
      "source": [
        "df.dtypes"
      ]
    },
    {
      "cell_type": "markdown",
      "metadata": {
        "id": "7ixBx_oS4j-f"
      },
      "source": [
        "**Percentual de dados faltantes por coluna**\n",
        "\n"
      ]
    },
    {
      "cell_type": "code",
      "execution_count": null,
      "metadata": {
        "id": "UGipHYh-4oIS",
        "outputId": "86f370e2-ad7b-436e-add7-6204b3ed2b84",
        "colab": {
          "base_uri": "https://localhost:8080/"
        }
      },
      "outputs": [
        {
          "output_type": "stream",
          "name": "stdout",
          "text": [
            "corrida                  0.000000\n",
            "secao                    0.000000\n",
            "acoatual                 0.000000\n",
            "qualidade                0.000000\n",
            "al_min                   0.000000\n",
            "c_min                    0.000000\n",
            "c_max                    0.000000\n",
            "n_min                    0.000000\n",
            "s_min                    0.000000\n",
            "sequencia                0.000000\n",
            "sequenciatotal           0.000000\n",
            "panela                   0.000000\n",
            "vidapanela               0.000000\n",
            "tempociclo               0.000000\n",
            "tempovacuototal          0.000000\n",
            "temperaturaliquidus      0.000000\n",
            "velocidadeobjetivada     0.000000\n",
            "velocidadereal           0.000000\n",
            "sugestaomodelolegado     0.000000\n",
            "temperaturasaidafp       0.000000\n",
            "temperaturaobjetivada    0.000000\n",
            "temperaturamediareal     0.024662\n",
            "dtype: float64\n"
          ]
        }
      ],
      "source": [
        "faltantes = df.isnull().sum()\n",
        "faltantes_percentual = (df.isnull().sum() / len(df['corrida'])) * 100\n",
        "print(faltantes_percentual)"
      ]
    },
    {
      "cell_type": "markdown",
      "metadata": {
        "id": "1XINizQV3sV_"
      },
      "source": [
        "**Exclusão das linhas com valores nulos**"
      ]
    },
    {
      "cell_type": "code",
      "execution_count": null,
      "metadata": {
        "id": "PF41W1AF34AW",
        "colab": {
          "base_uri": "https://localhost:8080/"
        },
        "outputId": "b54321c5-2e2a-430e-9a25-a2d12b53ed8f"
      },
      "outputs": [
        {
          "output_type": "stream",
          "name": "stdout",
          "text": [
            "corrida                  0.0\n",
            "secao                    0.0\n",
            "acoatual                 0.0\n",
            "qualidade                0.0\n",
            "al_min                   0.0\n",
            "c_min                    0.0\n",
            "c_max                    0.0\n",
            "n_min                    0.0\n",
            "s_min                    0.0\n",
            "sequencia                0.0\n",
            "sequenciatotal           0.0\n",
            "panela                   0.0\n",
            "vidapanela               0.0\n",
            "tempociclo               0.0\n",
            "tempovacuototal          0.0\n",
            "temperaturaliquidus      0.0\n",
            "velocidadeobjetivada     0.0\n",
            "velocidadereal           0.0\n",
            "sugestaomodelolegado     0.0\n",
            "temperaturasaidafp       0.0\n",
            "temperaturaobjetivada    0.0\n",
            "temperaturamediareal     0.0\n",
            "dtype: float64\n"
          ]
        }
      ],
      "source": [
        "#Como a porcentagem de dados faltantes é irrelevante(menos de 5%) apenas descartamos os valores NAN e/ou nulos\n",
        "\n",
        "df = df.dropna()\n",
        "\n",
        "\n",
        "#Conferindo novamente o percentual de valores nulos para garantir que foram removidos\n",
        "\n",
        "faltantes = df.isnull().sum()\n",
        "faltantes_percentual = (df.isnull().sum() / len(df['corrida'])) * 100\n",
        "print(faltantes_percentual)"
      ]
    },
    {
      "cell_type": "markdown",
      "source": [
        "**Removendo colunas duplicadas**"
      ],
      "metadata": {
        "id": "Zps8cAAjB4lv"
      }
    },
    {
      "cell_type": "code",
      "source": [
        "#Removemos as colunas duplicadas baseado na coluna corrida e mantendo a mais recente conforme instruido\n",
        "\n",
        "df = df.drop_duplicates(subset=['corrida'], keep='first')\n",
        "df.shape"
      ],
      "metadata": {
        "id": "2MSyVwNyB7yx",
        "outputId": "baa1bc29-a9cf-49f6-f551-8798f9fdef6e",
        "colab": {
          "base_uri": "https://localhost:8080/"
        }
      },
      "execution_count": null,
      "outputs": [
        {
          "output_type": "execute_result",
          "data": {
            "text/plain": [
              "(7482, 22)"
            ]
          },
          "metadata": {},
          "execution_count": 8
        }
      ]
    },
    {
      "cell_type": "code",
      "source": [
        "#A variável corrida só serviu para limpar valores duplicados, não tem mais utilidade, deve ser removida\n",
        "\n",
        "df = df.drop(columns=['corrida'])\n",
        "df.shape"
      ],
      "metadata": {
        "colab": {
          "base_uri": "https://localhost:8080/"
        },
        "id": "zp_yB_dCRg3T",
        "outputId": "37f30c83-a0c1-4123-afea-c2ab0027f94b"
      },
      "execution_count": null,
      "outputs": [
        {
          "output_type": "execute_result",
          "data": {
            "text/plain": [
              "(7482, 21)"
            ]
          },
          "metadata": {},
          "execution_count": 9
        }
      ]
    },
    {
      "cell_type": "code",
      "source": [
        "df.head()"
      ],
      "metadata": {
        "colab": {
          "base_uri": "https://localhost:8080/",
          "height": 226
        },
        "id": "eEzzoYi0RuAd",
        "outputId": "439ff1f0-98b4-4e6a-e02d-f363922f06d1"
      },
      "execution_count": null,
      "outputs": [
        {
          "output_type": "execute_result",
          "data": {
            "text/plain": [
              "    secao  acoatual qualidade  al_min  c_min  c_max  n_min  s_min  sequencia  \\\n",
              "0   180.0  336236CB  1F3F501C    0.02   0.16   0.18   0.01   0.01        2.0   \n",
              "6   180.0  D7B079C7  1F3F501C    0.02   0.14   0.16   0.01   0.01        1.0   \n",
              "28   90.0  E5AB530D  96956A01    0.02   0.15   0.17   0.01   0.02        3.0   \n",
              "36   90.0  457B036C  96956A01    0.02   0.17   0.19   0.01   0.02        1.0   \n",
              "40   90.0  8F368B5C  96956A01    0.02   0.15   0.17   0.01   0.02        1.0   \n",
              "\n",
              "    sequenciatotal  panela  vidapanela  tempociclo  tempovacuototal  \\\n",
              "0              2.0    15.0        15.0      2557.0             46.0   \n",
              "6              2.0    16.0         4.0       959.0             51.0   \n",
              "28             3.0     6.0        37.0      1800.0             46.0   \n",
              "36             3.0    15.0        14.0      2191.0             51.0   \n",
              "40             3.0     1.0        11.0         0.0             46.0   \n",
              "\n",
              "    temperaturaliquidus  velocidadeobjetivada  velocidadereal  \\\n",
              "0                1503.0                  0.85            0.86   \n",
              "6                1503.0                  0.85            0.85   \n",
              "28               1500.0                  2.10            2.11   \n",
              "36               1500.0                  2.10            2.07   \n",
              "40               1500.0                  2.10            2.11   \n",
              "\n",
              "    sugestaomodelolegado  temperaturasaidafp  temperaturaobjetivada  \\\n",
              "0                   1648                1670                 1543.0   \n",
              "6                   1674                1678                 1543.0   \n",
              "28                  1651                1672                 1540.0   \n",
              "36                  1667                1674                 1540.0   \n",
              "40                  1687                1662                 1540.0   \n",
              "\n",
              "    temperaturamediareal  \n",
              "0                 1555.0  \n",
              "6                 1547.0  \n",
              "28                1556.0  \n",
              "36                1540.0  \n",
              "40                1550.0  "
            ],
            "text/html": [
              "\n",
              "  <div id=\"df-b13c6622-a33e-46fa-aadd-a392283b0df8\" class=\"colab-df-container\">\n",
              "    <div>\n",
              "<style scoped>\n",
              "    .dataframe tbody tr th:only-of-type {\n",
              "        vertical-align: middle;\n",
              "    }\n",
              "\n",
              "    .dataframe tbody tr th {\n",
              "        vertical-align: top;\n",
              "    }\n",
              "\n",
              "    .dataframe thead th {\n",
              "        text-align: right;\n",
              "    }\n",
              "</style>\n",
              "<table border=\"1\" class=\"dataframe\">\n",
              "  <thead>\n",
              "    <tr style=\"text-align: right;\">\n",
              "      <th></th>\n",
              "      <th>secao</th>\n",
              "      <th>acoatual</th>\n",
              "      <th>qualidade</th>\n",
              "      <th>al_min</th>\n",
              "      <th>c_min</th>\n",
              "      <th>c_max</th>\n",
              "      <th>n_min</th>\n",
              "      <th>s_min</th>\n",
              "      <th>sequencia</th>\n",
              "      <th>sequenciatotal</th>\n",
              "      <th>panela</th>\n",
              "      <th>vidapanela</th>\n",
              "      <th>tempociclo</th>\n",
              "      <th>tempovacuototal</th>\n",
              "      <th>temperaturaliquidus</th>\n",
              "      <th>velocidadeobjetivada</th>\n",
              "      <th>velocidadereal</th>\n",
              "      <th>sugestaomodelolegado</th>\n",
              "      <th>temperaturasaidafp</th>\n",
              "      <th>temperaturaobjetivada</th>\n",
              "      <th>temperaturamediareal</th>\n",
              "    </tr>\n",
              "  </thead>\n",
              "  <tbody>\n",
              "    <tr>\n",
              "      <th>0</th>\n",
              "      <td>180.0</td>\n",
              "      <td>336236CB</td>\n",
              "      <td>1F3F501C</td>\n",
              "      <td>0.02</td>\n",
              "      <td>0.16</td>\n",
              "      <td>0.18</td>\n",
              "      <td>0.01</td>\n",
              "      <td>0.01</td>\n",
              "      <td>2.0</td>\n",
              "      <td>2.0</td>\n",
              "      <td>15.0</td>\n",
              "      <td>15.0</td>\n",
              "      <td>2557.0</td>\n",
              "      <td>46.0</td>\n",
              "      <td>1503.0</td>\n",
              "      <td>0.85</td>\n",
              "      <td>0.86</td>\n",
              "      <td>1648</td>\n",
              "      <td>1670</td>\n",
              "      <td>1543.0</td>\n",
              "      <td>1555.0</td>\n",
              "    </tr>\n",
              "    <tr>\n",
              "      <th>6</th>\n",
              "      <td>180.0</td>\n",
              "      <td>D7B079C7</td>\n",
              "      <td>1F3F501C</td>\n",
              "      <td>0.02</td>\n",
              "      <td>0.14</td>\n",
              "      <td>0.16</td>\n",
              "      <td>0.01</td>\n",
              "      <td>0.01</td>\n",
              "      <td>1.0</td>\n",
              "      <td>2.0</td>\n",
              "      <td>16.0</td>\n",
              "      <td>4.0</td>\n",
              "      <td>959.0</td>\n",
              "      <td>51.0</td>\n",
              "      <td>1503.0</td>\n",
              "      <td>0.85</td>\n",
              "      <td>0.85</td>\n",
              "      <td>1674</td>\n",
              "      <td>1678</td>\n",
              "      <td>1543.0</td>\n",
              "      <td>1547.0</td>\n",
              "    </tr>\n",
              "    <tr>\n",
              "      <th>28</th>\n",
              "      <td>90.0</td>\n",
              "      <td>E5AB530D</td>\n",
              "      <td>96956A01</td>\n",
              "      <td>0.02</td>\n",
              "      <td>0.15</td>\n",
              "      <td>0.17</td>\n",
              "      <td>0.01</td>\n",
              "      <td>0.02</td>\n",
              "      <td>3.0</td>\n",
              "      <td>3.0</td>\n",
              "      <td>6.0</td>\n",
              "      <td>37.0</td>\n",
              "      <td>1800.0</td>\n",
              "      <td>46.0</td>\n",
              "      <td>1500.0</td>\n",
              "      <td>2.10</td>\n",
              "      <td>2.11</td>\n",
              "      <td>1651</td>\n",
              "      <td>1672</td>\n",
              "      <td>1540.0</td>\n",
              "      <td>1556.0</td>\n",
              "    </tr>\n",
              "    <tr>\n",
              "      <th>36</th>\n",
              "      <td>90.0</td>\n",
              "      <td>457B036C</td>\n",
              "      <td>96956A01</td>\n",
              "      <td>0.02</td>\n",
              "      <td>0.17</td>\n",
              "      <td>0.19</td>\n",
              "      <td>0.01</td>\n",
              "      <td>0.02</td>\n",
              "      <td>1.0</td>\n",
              "      <td>3.0</td>\n",
              "      <td>15.0</td>\n",
              "      <td>14.0</td>\n",
              "      <td>2191.0</td>\n",
              "      <td>51.0</td>\n",
              "      <td>1500.0</td>\n",
              "      <td>2.10</td>\n",
              "      <td>2.07</td>\n",
              "      <td>1667</td>\n",
              "      <td>1674</td>\n",
              "      <td>1540.0</td>\n",
              "      <td>1540.0</td>\n",
              "    </tr>\n",
              "    <tr>\n",
              "      <th>40</th>\n",
              "      <td>90.0</td>\n",
              "      <td>8F368B5C</td>\n",
              "      <td>96956A01</td>\n",
              "      <td>0.02</td>\n",
              "      <td>0.15</td>\n",
              "      <td>0.17</td>\n",
              "      <td>0.01</td>\n",
              "      <td>0.02</td>\n",
              "      <td>1.0</td>\n",
              "      <td>3.0</td>\n",
              "      <td>1.0</td>\n",
              "      <td>11.0</td>\n",
              "      <td>0.0</td>\n",
              "      <td>46.0</td>\n",
              "      <td>1500.0</td>\n",
              "      <td>2.10</td>\n",
              "      <td>2.11</td>\n",
              "      <td>1687</td>\n",
              "      <td>1662</td>\n",
              "      <td>1540.0</td>\n",
              "      <td>1550.0</td>\n",
              "    </tr>\n",
              "  </tbody>\n",
              "</table>\n",
              "</div>\n",
              "    <div class=\"colab-df-buttons\">\n",
              "\n",
              "  <div class=\"colab-df-container\">\n",
              "    <button class=\"colab-df-convert\" onclick=\"convertToInteractive('df-b13c6622-a33e-46fa-aadd-a392283b0df8')\"\n",
              "            title=\"Convert this dataframe to an interactive table.\"\n",
              "            style=\"display:none;\">\n",
              "\n",
              "  <svg xmlns=\"http://www.w3.org/2000/svg\" height=\"24px\" viewBox=\"0 -960 960 960\">\n",
              "    <path d=\"M120-120v-720h720v720H120Zm60-500h600v-160H180v160Zm220 220h160v-160H400v160Zm0 220h160v-160H400v160ZM180-400h160v-160H180v160Zm440 0h160v-160H620v160ZM180-180h160v-160H180v160Zm440 0h160v-160H620v160Z\"/>\n",
              "  </svg>\n",
              "    </button>\n",
              "\n",
              "  <style>\n",
              "    .colab-df-container {\n",
              "      display:flex;\n",
              "      gap: 12px;\n",
              "    }\n",
              "\n",
              "    .colab-df-convert {\n",
              "      background-color: #E8F0FE;\n",
              "      border: none;\n",
              "      border-radius: 50%;\n",
              "      cursor: pointer;\n",
              "      display: none;\n",
              "      fill: #1967D2;\n",
              "      height: 32px;\n",
              "      padding: 0 0 0 0;\n",
              "      width: 32px;\n",
              "    }\n",
              "\n",
              "    .colab-df-convert:hover {\n",
              "      background-color: #E2EBFA;\n",
              "      box-shadow: 0px 1px 2px rgba(60, 64, 67, 0.3), 0px 1px 3px 1px rgba(60, 64, 67, 0.15);\n",
              "      fill: #174EA6;\n",
              "    }\n",
              "\n",
              "    .colab-df-buttons div {\n",
              "      margin-bottom: 4px;\n",
              "    }\n",
              "\n",
              "    [theme=dark] .colab-df-convert {\n",
              "      background-color: #3B4455;\n",
              "      fill: #D2E3FC;\n",
              "    }\n",
              "\n",
              "    [theme=dark] .colab-df-convert:hover {\n",
              "      background-color: #434B5C;\n",
              "      box-shadow: 0px 1px 3px 1px rgba(0, 0, 0, 0.15);\n",
              "      filter: drop-shadow(0px 1px 2px rgba(0, 0, 0, 0.3));\n",
              "      fill: #FFFFFF;\n",
              "    }\n",
              "  </style>\n",
              "\n",
              "    <script>\n",
              "      const buttonEl =\n",
              "        document.querySelector('#df-b13c6622-a33e-46fa-aadd-a392283b0df8 button.colab-df-convert');\n",
              "      buttonEl.style.display =\n",
              "        google.colab.kernel.accessAllowed ? 'block' : 'none';\n",
              "\n",
              "      async function convertToInteractive(key) {\n",
              "        const element = document.querySelector('#df-b13c6622-a33e-46fa-aadd-a392283b0df8');\n",
              "        const dataTable =\n",
              "          await google.colab.kernel.invokeFunction('convertToInteractive',\n",
              "                                                    [key], {});\n",
              "        if (!dataTable) return;\n",
              "\n",
              "        const docLinkHtml = 'Like what you see? Visit the ' +\n",
              "          '<a target=\"_blank\" href=https://colab.research.google.com/notebooks/data_table.ipynb>data table notebook</a>'\n",
              "          + ' to learn more about interactive tables.';\n",
              "        element.innerHTML = '';\n",
              "        dataTable['output_type'] = 'display_data';\n",
              "        await google.colab.output.renderOutput(dataTable, element);\n",
              "        const docLink = document.createElement('div');\n",
              "        docLink.innerHTML = docLinkHtml;\n",
              "        element.appendChild(docLink);\n",
              "      }\n",
              "    </script>\n",
              "  </div>\n",
              "\n",
              "\n",
              "    <div id=\"df-8bff5416-01ed-4ede-be83-1d6b9015dd0c\">\n",
              "      <button class=\"colab-df-quickchart\" onclick=\"quickchart('df-8bff5416-01ed-4ede-be83-1d6b9015dd0c')\"\n",
              "                title=\"Suggest charts\"\n",
              "                style=\"display:none;\">\n",
              "\n",
              "<svg xmlns=\"http://www.w3.org/2000/svg\" height=\"24px\"viewBox=\"0 0 24 24\"\n",
              "     width=\"24px\">\n",
              "    <g>\n",
              "        <path d=\"M19 3H5c-1.1 0-2 .9-2 2v14c0 1.1.9 2 2 2h14c1.1 0 2-.9 2-2V5c0-1.1-.9-2-2-2zM9 17H7v-7h2v7zm4 0h-2V7h2v10zm4 0h-2v-4h2v4z\"/>\n",
              "    </g>\n",
              "</svg>\n",
              "      </button>\n",
              "\n",
              "<style>\n",
              "  .colab-df-quickchart {\n",
              "      --bg-color: #E8F0FE;\n",
              "      --fill-color: #1967D2;\n",
              "      --hover-bg-color: #E2EBFA;\n",
              "      --hover-fill-color: #174EA6;\n",
              "      --disabled-fill-color: #AAA;\n",
              "      --disabled-bg-color: #DDD;\n",
              "  }\n",
              "\n",
              "  [theme=dark] .colab-df-quickchart {\n",
              "      --bg-color: #3B4455;\n",
              "      --fill-color: #D2E3FC;\n",
              "      --hover-bg-color: #434B5C;\n",
              "      --hover-fill-color: #FFFFFF;\n",
              "      --disabled-bg-color: #3B4455;\n",
              "      --disabled-fill-color: #666;\n",
              "  }\n",
              "\n",
              "  .colab-df-quickchart {\n",
              "    background-color: var(--bg-color);\n",
              "    border: none;\n",
              "    border-radius: 50%;\n",
              "    cursor: pointer;\n",
              "    display: none;\n",
              "    fill: var(--fill-color);\n",
              "    height: 32px;\n",
              "    padding: 0;\n",
              "    width: 32px;\n",
              "  }\n",
              "\n",
              "  .colab-df-quickchart:hover {\n",
              "    background-color: var(--hover-bg-color);\n",
              "    box-shadow: 0 1px 2px rgba(60, 64, 67, 0.3), 0 1px 3px 1px rgba(60, 64, 67, 0.15);\n",
              "    fill: var(--button-hover-fill-color);\n",
              "  }\n",
              "\n",
              "  .colab-df-quickchart-complete:disabled,\n",
              "  .colab-df-quickchart-complete:disabled:hover {\n",
              "    background-color: var(--disabled-bg-color);\n",
              "    fill: var(--disabled-fill-color);\n",
              "    box-shadow: none;\n",
              "  }\n",
              "\n",
              "  .colab-df-spinner {\n",
              "    border: 2px solid var(--fill-color);\n",
              "    border-color: transparent;\n",
              "    border-bottom-color: var(--fill-color);\n",
              "    animation:\n",
              "      spin 1s steps(1) infinite;\n",
              "  }\n",
              "\n",
              "  @keyframes spin {\n",
              "    0% {\n",
              "      border-color: transparent;\n",
              "      border-bottom-color: var(--fill-color);\n",
              "      border-left-color: var(--fill-color);\n",
              "    }\n",
              "    20% {\n",
              "      border-color: transparent;\n",
              "      border-left-color: var(--fill-color);\n",
              "      border-top-color: var(--fill-color);\n",
              "    }\n",
              "    30% {\n",
              "      border-color: transparent;\n",
              "      border-left-color: var(--fill-color);\n",
              "      border-top-color: var(--fill-color);\n",
              "      border-right-color: var(--fill-color);\n",
              "    }\n",
              "    40% {\n",
              "      border-color: transparent;\n",
              "      border-right-color: var(--fill-color);\n",
              "      border-top-color: var(--fill-color);\n",
              "    }\n",
              "    60% {\n",
              "      border-color: transparent;\n",
              "      border-right-color: var(--fill-color);\n",
              "    }\n",
              "    80% {\n",
              "      border-color: transparent;\n",
              "      border-right-color: var(--fill-color);\n",
              "      border-bottom-color: var(--fill-color);\n",
              "    }\n",
              "    90% {\n",
              "      border-color: transparent;\n",
              "      border-bottom-color: var(--fill-color);\n",
              "    }\n",
              "  }\n",
              "</style>\n",
              "\n",
              "      <script>\n",
              "        async function quickchart(key) {\n",
              "          const quickchartButtonEl =\n",
              "            document.querySelector('#' + key + ' button');\n",
              "          quickchartButtonEl.disabled = true;  // To prevent multiple clicks.\n",
              "          quickchartButtonEl.classList.add('colab-df-spinner');\n",
              "          try {\n",
              "            const charts = await google.colab.kernel.invokeFunction(\n",
              "                'suggestCharts', [key], {});\n",
              "          } catch (error) {\n",
              "            console.error('Error during call to suggestCharts:', error);\n",
              "          }\n",
              "          quickchartButtonEl.classList.remove('colab-df-spinner');\n",
              "          quickchartButtonEl.classList.add('colab-df-quickchart-complete');\n",
              "        }\n",
              "        (() => {\n",
              "          let quickchartButtonEl =\n",
              "            document.querySelector('#df-8bff5416-01ed-4ede-be83-1d6b9015dd0c button');\n",
              "          quickchartButtonEl.style.display =\n",
              "            google.colab.kernel.accessAllowed ? 'block' : 'none';\n",
              "        })();\n",
              "      </script>\n",
              "    </div>\n",
              "\n",
              "    </div>\n",
              "  </div>\n"
            ],
            "application/vnd.google.colaboratory.intrinsic+json": {
              "type": "dataframe",
              "variable_name": "df"
            }
          },
          "metadata": {},
          "execution_count": 10
        }
      ]
    },
    {
      "cell_type": "markdown",
      "source": [
        "#Comportamento de Tsaidafp"
      ],
      "metadata": {
        "id": "bOb8lkGBE6jn"
      }
    },
    {
      "cell_type": "code",
      "source": [
        "import matplotlib.pyplot as plt\n",
        "\n",
        "plt.figure(figsize=(2, 3))\n",
        "plt.boxplot(df.temperaturasaidafp)\n",
        "plt.title(\"Box Plot temperaturamediareal\")\n",
        "plt.show()"
      ],
      "metadata": {
        "id": "FbrISyTXE80a",
        "colab": {
          "base_uri": "https://localhost:8080/",
          "height": 314
        },
        "outputId": "7829538d-a4a5-47ff-c465-8bf570290981"
      },
      "execution_count": null,
      "outputs": [
        {
          "output_type": "display_data",
          "data": {
            "text/plain": [
              "<Figure size 200x300 with 1 Axes>"
            ],
            "image/png": "[encoded data removed]"
          },
          "metadata": {}
        }
      ]
    },
    {
      "cell_type": "markdown",
      "source": [
        "Tsaidafp x Tmediareal"
      ],
      "metadata": {
        "id": "UyiI5chAXgTV"
      }
    },
    {
      "cell_type": "code",
      "source": [
        "import matplotlib.pyplot as plt\n",
        "\n",
        "plt.figure(figsize=(5, 3))\n",
        "plt.scatter(df.temperaturasaidafp, df.temperaturamediareal)\n",
        "plt.xlabel('temperaturasaidafp')\n",
        "plt.ylabel('temperaturamediareal')\n",
        "plt.show()\n",
        "#o gráfico mostra que a Tmediareal está seguindo a Tsaidafp de forma relativamente linear"
      ],
      "metadata": {
        "id": "cqmPaxsYXffZ",
        "colab": {
          "base_uri": "https://localhost:8080/",
          "height": 311
        },
        "outputId": "9a6b5849-5df8-46b0-8d16-b6f3366198e0"
      },
      "execution_count": null,
      "outputs": [
        {
          "output_type": "display_data",
          "data": {
            "text/plain": [
              "<Figure size 500x300 with 1 Axes>"
            ],
            "image/png": "[encoded data removed]"
          },
          "metadata": {}
        }
      ]
    },
    {
      "cell_type": "markdown",
      "source": [
        "Removendo os valores muito baixos de sugestaomodelolegado"
      ],
      "metadata": {
        "id": "mu_RDOzzWPUa"
      }
    },
    {
      "cell_type": "code",
      "source": [
        "df_filtered = df[df['sugestaomodelolegado'] >= 200].copy()"
      ],
      "metadata": {
        "id": "YxQOo0DuWO7r"
      },
      "execution_count": null,
      "outputs": []
    },
    {
      "cell_type": "markdown",
      "source": [
        "Tmodelolegado x Tmediareal"
      ],
      "metadata": {
        "id": "dvxHn_cpXmGR"
      }
    },
    {
      "cell_type": "code",
      "source": [
        "import matplotlib.pyplot as plt\n",
        "\n",
        "plt.figure(figsize=(4, 3))\n",
        "plt.scatter(df_filtered.sugestaomodelolegado, df_filtered.temperaturamediareal)\n",
        "plt.xlabel('sugestaomodelolegado')\n",
        "plt.ylabel('temperaturamediareal')\n",
        "plt.show()\n",
        "#o gráfico mostra que o modelo legado está muito disperso em relação a tmediareal"
      ],
      "metadata": {
        "id": "gTsQ73reXkCH"
      },
      "execution_count": null,
      "outputs": []
    },
    {
      "cell_type": "markdown",
      "source": [
        "Tmodelolegado x Tobjetivada"
      ],
      "metadata": {
        "id": "bpgliVN2XsHC"
      }
    },
    {
      "cell_type": "code",
      "source": [
        "import matplotlib.pyplot as plt\n",
        "\n",
        "plt.figure(figsize=(4, 3))\n",
        "plt.scatter(df_filtered.sugestaomodelolegado, df_filtered.temperaturaobjetivada)\n",
        "plt.xlabel('sugestaomodelolegado')\n",
        "plt.ylabel('temperaturaobjetivada')\n",
        "plt.show()\n",
        "#o gráfico mostra que o modelo legado está muito disparso em relação a temperatura objetivada"
      ],
      "metadata": {
        "id": "92DT-RI9XtPm"
      },
      "execution_count": null,
      "outputs": []
    },
    {
      "cell_type": "code",
      "source": [
        "import matplotlib.pyplot as plt\n",
        "\n",
        "plt.figure(figsize=(4, 3))\n",
        "plt.hist(df['temperaturaobjetivada'], bins=25)\n",
        "plt.show()"
      ],
      "metadata": {
        "id": "djybRxjWXyET"
      },
      "execution_count": null,
      "outputs": []
    },
    {
      "cell_type": "markdown",
      "source": [],
      "metadata": {
        "id": "iksDv3NxXvhj"
      }
    },
    {
      "cell_type": "markdown",
      "source": [
        "# **Análise exploratória**"
      ],
      "metadata": {
        "id": "Jenqcfs-ShTk"
      }
    },
    {
      "cell_type": "code",
      "source": [
        "import pandas as pd\n",
        "import matplotlib.pyplot as plt\n",
        "import seaborn as sns"
      ],
      "metadata": {
        "id": "X7qB3t8yS97i"
      },
      "execution_count": null,
      "outputs": []
    },
    {
      "cell_type": "code",
      "source": [
        "valores_unicos = df.nunique()\n",
        "\n",
        "print(valores_unicos)"
      ],
      "metadata": {
        "colab": {
          "base_uri": "https://localhost:8080/"
        },
        "id": "H49cfigETAAs",
        "outputId": "598ded89-9989-4cd4-f79d-5392ac8b3ac0"
      },
      "execution_count": null,
      "outputs": [
        {
          "output_type": "stream",
          "name": "stdout",
          "text": [
            "secao                       2\n",
            "acoatual                 3503\n",
            "qualidade                 253\n",
            "al_min                      4\n",
            "c_min                     121\n",
            "c_max                     126\n",
            "n_min                       3\n",
            "s_min                      29\n",
            "sequencia                  11\n",
            "sequenciatotal             11\n",
            "panela                     12\n",
            "vidapanela                 76\n",
            "tempociclo               3902\n",
            "tempovacuototal            24\n",
            "temperaturaliquidus        49\n",
            "velocidadeobjetivada       13\n",
            "velocidadereal            115\n",
            "sugestaomodelolegado      134\n",
            "temperaturasaidafp        138\n",
            "temperaturaobjetivada      59\n",
            "temperaturamediareal      105\n",
            "dtype: int64\n"
          ]
        }
      ]
    },
    {
      "cell_type": "markdown",
      "source": [
        "**Comportamento da variável target**"
      ],
      "metadata": {
        "id": "rpjIhhKhTmpG"
      }
    },
    {
      "cell_type": "code",
      "source": [
        "plt.figure(figsize=(4,2.5))\n",
        "\n",
        "plt.hist(df['temperaturasaidafp'], bins=20)\n",
        "plt.xlabel('temperaturasaidafp')\n",
        "plt.ylabel('frequência')\n",
        "plt.tight_layout()\n",
        "plt.show()"
      ],
      "metadata": {
        "colab": {
          "base_uri": "https://localhost:8080/",
          "height": 257
        },
        "id": "iuroLoTjTl_O",
        "outputId": "086eef7a-e013-4f3c-c078-b9029ec84785"
      },
      "execution_count": null,
      "outputs": [
        {
          "output_type": "display_data",
          "data": {
            "text/plain": [
              "<Figure size 400x250 with 1 Axes>"
            ],
            "image/png": "[encoded data removed]"
          },
          "metadata": {}
        }
      ]
    },
    {
      "cell_type": "code",
      "source": [
        "media = df['temperaturasaidafp'].mean()\n",
        "mediana = df['temperaturasaidafp'].median()\n",
        "\n",
        "print(f\"Média: {media}\")\n",
        "print(f\"Mediana: {mediana}\")"
      ],
      "metadata": {
        "colab": {
          "base_uri": "https://localhost:8080/"
        },
        "id": "bBzdNk7uUAvz",
        "outputId": "5fdf15e4-be10-451a-90f8-b386605b409e"
      },
      "execution_count": null,
      "outputs": [
        {
          "output_type": "stream",
          "name": "stdout",
          "text": [
            "Média: 1653.9966586474204\n",
            "Mediana: 1654.0\n"
          ]
        }
      ]
    },
    {
      "cell_type": "markdown",
      "source": [
        "**Comportamento secao x target**"
      ],
      "metadata": {
        "id": "sPkK0oOCWO1G"
      }
    },
    {
      "cell_type": "code",
      "source": [
        "plt.figure(figsize=(4, 3))\n",
        "\n",
        "plt.scatter(df['secao'], df['temperaturasaidafp'])\n",
        "plt.xlabel('secao')\n",
        "plt.ylabel('temperaturasaidafp')\n",
        "plt.show()"
      ],
      "metadata": {
        "colab": {
          "base_uri": "https://localhost:8080/",
          "height": 311
        },
        "id": "44UsgN9sWQS7",
        "outputId": "fae95041-914d-4ae6-b09b-d5c756140573"
      },
      "execution_count": null,
      "outputs": [
        {
          "output_type": "display_data",
          "data": {
            "text/plain": [
              "<Figure size 400x300 with 1 Axes>"
            ],
            "image/png": "[encoded data removed]"
          },
          "metadata": {}
        }
      ]
    },
    {
      "cell_type": "code",
      "source": [
        "plt.figure(figsize=(4, 3))\n",
        "\n",
        "sns.lineplot(data=df, x='secao', y='temperaturasaidafp', estimator='mean', errorbar=None, marker='o')\n",
        "plt.xlabel('secao')\n",
        "plt.ylabel('temperaturasaidafp')\n",
        "plt.ylim(df['temperaturasaidafp'].min(), df['temperaturasaidafp'].max())\n",
        "plt.show()"
      ],
      "metadata": {
        "colab": {
          "base_uri": "https://localhost:8080/",
          "height": 312
        },
        "id": "kob7Wgf_shcj",
        "outputId": "582ed9c9-ec16-4aad-cb22-da3d120cc558"
      },
      "execution_count": null,
      "outputs": [
        {
          "output_type": "display_data",
          "data": {
            "text/plain": [
              "<Figure size 400x300 with 1 Axes>"
            ],
            "image/png": "[encoded data removed]"
          },
          "metadata": {}
        }
      ]
    },
    {
      "cell_type": "markdown",
      "source": [
        "**Comportamento al_min x target**"
      ],
      "metadata": {
        "id": "316o6NiXsruG"
      }
    },
    {
      "cell_type": "code",
      "source": [
        "plt.figure(figsize=(4, 3))\n",
        "\n",
        "plt.scatter(df['al_min'], df['temperaturasaidafp'])\n",
        "plt.xlabel('al_min')\n",
        "plt.ylabel('temperaturasaidafp')\n",
        "plt.show()"
      ],
      "metadata": {
        "colab": {
          "base_uri": "https://localhost:8080/",
          "height": 311
        },
        "id": "x0Vn7mfusq1m",
        "outputId": "1769e12a-742a-490a-dcbe-b4f7acec06e4"
      },
      "execution_count": null,
      "outputs": [
        {
          "output_type": "display_data",
          "data": {
            "text/plain": [
              "<Figure size 400x300 with 1 Axes>"
            ],
            "image/png": "[encoded data removed]"
          },
          "metadata": {}
        }
      ]
    },
    {
      "cell_type": "code",
      "source": [
        "plt.figure(figsize=(4, 3))\n",
        "\n",
        "sns.lineplot(data=df, x='al_min', y='temperaturasaidafp', estimator='mean', errorbar=None, marker='o')\n",
        "plt.xlabel('al_min')\n",
        "plt.ylabel('temperaturasaidafp')\n",
        "plt.ylim(df['temperaturasaidafp'].min(), df['temperaturasaidafp'].max())\n",
        "plt.show()"
      ],
      "metadata": {
        "colab": {
          "base_uri": "https://localhost:8080/",
          "height": 312
        },
        "id": "xufnFet4s1mu",
        "outputId": "82236d01-ba8b-4f9d-da96-cb8632051513"
      },
      "execution_count": null,
      "outputs": [
        {
          "output_type": "display_data",
          "data": {
            "text/plain": [
              "<Figure size 400x300 with 1 Axes>"
            ],
            "image/png": "[encoded data removed]"
          },
          "metadata": {}
        }
      ]
    },
    {
      "cell_type": "markdown",
      "metadata": {
        "id": "xyZwjcEBMBSt"
      },
      "source": [
        "# **Avaliação de desempenho do modelo legado**"
      ]
    },
    {
      "cell_type": "code",
      "source": [
        "df['usage'] = df.apply(\n",
        "    lambda row: 'usou' if row['sugestaomodelolegado']== row['temperaturasaidafp']\n",
        "    else 'Naousou',axis=1)\n",
        "display(df[['temperaturasaidafp', 'temperaturamediareal', 'usage']].head())"
      ],
      "metadata": {
        "id": "SDpqPYw-nGJL"
      },
      "execution_count": null,
      "outputs": []
    },
    {
      "cell_type": "code",
      "source": [
        "# Calculate the percentage of 'usou' and 'Naousou' in the 'usage' column\n",
        "usage_percentage = df['usage'].value_counts(normalize=True) * 100\n",
        "\n",
        "# Print the percentages\n",
        "print(\"Porcentagem de 'usou' e 'Naousou':\")\n",
        "print(usage_percentage)"
      ],
      "metadata": {
        "id": "R6r1RYkFnNoK"
      },
      "execution_count": null,
      "outputs": []
    },
    {
      "cell_type": "code",
      "source": [
        "df['usage'] = df.apply(\n",
        "    lambda row: 'usou' if row['sugestaomodelolegado']-row['temperaturasaidafp'] >=-1\n",
        "    and row['sugestaomodelolegado'] - row['temperaturasaidafp'] <=1\n",
        "    else 'Naousou',axis=1)\n",
        "display(df[['temperaturasaidafp', 'temperaturamediareal', 'usage']].head())"
      ],
      "metadata": {
        "id": "WZJdFyO8InKb"
      },
      "execution_count": null,
      "outputs": []
    },
    {
      "cell_type": "code",
      "source": [
        "# Calculate the percentage of 'usou' and 'Naousou' in the 'usage' column\n",
        "usage_percentage = df['usage'].value_counts(normalize=True) * 100\n",
        "\n",
        "# Print the percentages\n",
        "print(\"Porcentagem de 'usou' e 'Naousou':\")\n",
        "print(usage_percentage)"
      ],
      "metadata": {
        "id": "MBlSNMFYe3Rc"
      },
      "execution_count": null,
      "outputs": []
    },
    {
      "cell_type": "code",
      "source": [
        "df['diferenca'] = df['sugestaomodelolegado'] - df['temperaturasaidafp']\n",
        "display(df[['sugestaomodelolegado', 'temperaturasaidafp', 'diferenca']].head())"
      ],
      "metadata": {
        "id": "VtltcfZnfE-j"
      },
      "execution_count": null,
      "outputs": []
    },
    {
      "cell_type": "code",
      "metadata": {
        "id": "eb5b90e3"
      },
      "source": [
        "df['nova_temperatura'] = df['diferenca'] + df['temperaturamediareal']\n",
        "display(df[['diferenca', 'temperaturamediareal', 'nova_temperatura']].head())"
      ],
      "execution_count": null,
      "outputs": []
    },
    {
      "cell_type": "code",
      "metadata": {
        "id": "1cd883f4"
      },
      "source": [
        "def check_temperature_range(row):\n",
        "    nova_temperatura = row['nova_temperatura']\n",
        "    temperatura_objetivada = row['temperaturaobjetivada']\n",
        "    if (nova_temperatura >= temperatura_objetivada - 5) and (nova_temperatura <= temperatura_objetivada + 10):\n",
        "        return 'acerto'\n",
        "    elif nova_temperatura < (temperatura_objetivada - 5):\n",
        "        return 'erro para baixo'\n",
        "    else: # nova_temperatura > (temperatura_objetivada + 10)\n",
        "        return 'erro para cima'\n",
        "\n",
        "df['flag_nova_temperatura'] = df.apply(check_temperature_range, axis=1)\n",
        "display(df[['nova_temperatura', 'temperaturaobjetivada', 'flag_nova_temperatura']].head())"
      ],
      "execution_count": null,
      "outputs": []
    },
    {
      "cell_type": "code",
      "metadata": {
        "id": "379b60b9"
      },
      "source": [
        "import matplotlib.pyplot as plt\n",
        "import seaborn as sns\n",
        "\n",
        "# Calculate the percentage of 'acerto' and 'erro'\n",
        "flag_counts = df['flag_nova_temperatura'].value_counts(normalize=True) * 100\n",
        "\n",
        "# Create a bar plot\n",
        "plt.figure(figsize=(6, 4))\n",
        "ax = sns.barplot(x=flag_counts.index, y=flag_counts.values, palette=['green', 'red', 'blue'], hue=flag_counts.index, legend=False)\n",
        "\n",
        "# Add percentage labels on top of the bars\n",
        "for p in ax.patches:\n",
        "    ax.annotate(f'{p.get_height():.2f}%', (p.get_x() + p.get_width() / 2., p.get_height()),\n",
        "                ha='center', va='center', xytext=(0, 5), textcoords='offset points')\n",
        "\n",
        "plt.ylabel('Porcentagem')\n",
        "plt.title('Porcentagem de Acertos e Erros do Modelo')\n",
        "plt.ylim(0, 100)\n",
        "plt.show()"
      ],
      "execution_count": null,
      "outputs": []
    },
    {
      "cell_type": "code",
      "source": [
        "df_copia = df.copy()"
      ],
      "metadata": {
        "id": "VbWdjp2imuYg"
      },
      "execution_count": null,
      "outputs": []
    },
    {
      "cell_type": "code",
      "source": [
        "import matplotlib.pyplot as plt\n",
        "import seaborn as sns\n",
        "\n",
        "# Check if the original temperaturamediareal is within the desired range of temperaturaobjetivada\n",
        "is_within_range_original = (df['temperaturamediareal'] >= df['temperaturaobjetivada'] - 5) & \\\n",
        "                           (df['temperaturamediareal'] <= df['temperaturaobjetivada'] + 10)\n",
        "\n",
        "# Create a new column to flag these cases\n",
        "df['flag_original_range'] = is_within_range_original.apply(lambda x: 'acerto' if x else 'erro')\n",
        "\n",
        "# Calculate the percentage of 'acerto' and 'erro' for the original data\n",
        "flag_counts_original = df['flag_original_range'].value_counts(normalize=True) * 100\n",
        "\n",
        "# Create a bar plot for the original data\n",
        "plt.figure(figsize=(6, 4))\n",
        "ax = sns.barplot(x=flag_counts_original.index, y=flag_counts_original.values, palette=['green', 'red'], hue=flag_counts_original.index, legend=False)\n",
        "\n",
        "# Add percentage labels on top of the bars\n",
        "for p in ax.patches:\n",
        "    ax.annotate(f'{p.get_height():.2f}%', (p.get_x() + p.get_width() / 2., p.get_height()),\n",
        "                ha='center', va='center', xytext=(0, 5), textcoords='offset points')\n",
        "\n",
        "plt.ylabel('Porcentagem')\n",
        "plt.title('Porcentagem de Acertos e Erros (Dados Originais)')\n",
        "plt.ylim(0, 100)\n",
        "plt.show()"
      ],
      "metadata": {
        "id": "X3uGKkairOQE"
      },
      "execution_count": null,
      "outputs": []
    },
    {
      "cell_type": "code",
      "source": [
        "# Filter the DataFrame to remove rows where 'flag_original_range' is 'erro'\n",
        "df = df[df['flag_original_range'] != 'erro'].copy()\n",
        "\n",
        "print(\"Shape of the filtered DataFrame:\", df.shape)"
      ],
      "metadata": {
        "id": "AUObkW5gC0BK"
      },
      "execution_count": null,
      "outputs": []
    },
    {
      "cell_type": "markdown",
      "metadata": {
        "id": "dUi2U2psMnmN"
      },
      "source": [
        "# **Seleção de variáveis**"
      ]
    },
    {
      "cell_type": "code",
      "source": [
        "df.vidapanela.value_counts()"
      ],
      "metadata": {
        "id": "7gxbccAn-bZM"
      },
      "execution_count": null,
      "outputs": []
    },
    {
      "cell_type": "code",
      "source": [
        "df.vidapanela.hist()"
      ],
      "metadata": {
        "id": "A1L1i6Oy-mD3"
      },
      "execution_count": null,
      "outputs": []
    },
    {
      "cell_type": "code",
      "source": [
        "import matplotlib.pyplot as plt\n",
        "df_teste = df[df.temperaturasaidafp > 500]\n",
        "plt.figure(figsize=(10, 6))\n",
        "plt.scatter(df_teste['vidapanela'], df_teste['temperaturasaidafp'], alpha=0.5)\n",
        "plt.title('Relação entre Vida da Panela e Temperatura Saidafp')\n",
        "plt.xlabel('Vida da Panela')\n",
        "plt.ylabel('Temperatura Saidafp')\n",
        "plt.show()"
      ],
      "metadata": {
        "id": "jRiWS-Cg-uca"
      },
      "execution_count": null,
      "outputs": []
    },
    {
      "cell_type": "code",
      "source": [
        "df.panela.value_counts()"
      ],
      "metadata": {
        "id": "kMhHAiQUBncz"
      },
      "execution_count": null,
      "outputs": []
    },
    {
      "cell_type": "code",
      "source": [
        "df.panela.hist()"
      ],
      "metadata": {
        "id": "f4oQNlXdBugs"
      },
      "execution_count": null,
      "outputs": []
    },
    {
      "cell_type": "code",
      "source": [
        "import matplotlib.pyplot as plt\n",
        "df_teste = df[df.temperaturasaidafp > 500]\n",
        "plt.figure(figsize=(10, 6))\n",
        "plt.scatter(df_teste['panela'], df_teste['temperaturasaidafp'], alpha=0.5)\n",
        "plt.title('Relação entre Panela e Temperatura Saidafp')\n",
        "plt.xlabel(' Panela')\n",
        "plt.ylabel('Temperatura Saidafp')\n",
        "plt.show()"
      ],
      "metadata": {
        "id": "jjzRzO8qBuTu"
      },
      "execution_count": null,
      "outputs": []
    },
    {
      "cell_type": "markdown",
      "metadata": {
        "id": "7oBZxg-RMyTf"
      },
      "source": [
        "**Correlação**"
      ]
    },
    {
      "cell_type": "code",
      "source": [
        "df.head()"
      ],
      "metadata": {
        "id": "eIbAT2pIykPb"
      },
      "execution_count": null,
      "outputs": []
    },
    {
      "cell_type": "code",
      "source": [
        "import seaborn as sns\n",
        "import matplotlib.pyplot as plt\n",
        "import numpy as np\n",
        "\n",
        "colunas_objeto = ['acoqualidade','usage','diferenca','flag_nova_temperatura','flag_original_range','velocidadereal','temperaturamediareal','sugestaomodelolegado']\n",
        "df_sem_objeto = df.drop(columns=colunas_objeto)\n",
        "\n",
        "corr = df_sem_objeto.corr(numeric_only=True,method='spearman')\n",
        "\n",
        "plt.figure(figsize=(12,12))\n",
        "ax = sns.heatmap(corr, annot=False, cmap=\"coolwarm\", center=0, fmt=\".2f\")\n",
        "\n",
        "# Pegar o tamanho da matriz\n",
        "n = corr.shape[0]\n",
        "\n",
        "# Plotar uma diagonal verde (usando scatter)\n",
        "ax.scatter(\n",
        "    x=np.arange(0.5, n),  # posições no eixo x\n",
        "    y=np.arange(0.5, n),  # posições no eixo y\n",
        "    c=\"green\", s=200, marker=\"s\"  # quadrados verdes grandes\n",
        ")\n",
        "\n",
        "plt.show()"
      ],
      "metadata": {
        "id": "gZJAnF8IGozM"
      },
      "execution_count": null,
      "outputs": []
    },
    {
      "cell_type": "code",
      "source": [
        "corr.corr(method='spearman')\n"
      ],
      "metadata": {
        "id": "g4udRhYFKBSP"
      },
      "execution_count": null,
      "outputs": []
    },
    {
      "cell_type": "code",
      "source": [
        "from statsmodels.stats.outliers_influence import variance_inflation_factor\n",
        "from statsmodels.tools.tools import add_constant\n",
        "# Drop non-numeric columns and the target variable for VIF calculation\n",
        "# Assuming 'temperaturasaidafp' is the target variable\n",
        "df_numeric = df.select_dtypes(include=['number']).drop(columns=['temperaturasaidafp', 'nova_temperatura', 'diferenca','temperaturamediareal','sugestaomodelolegado',\n",
        "                                                                'velocidadereal','c_min','c_max'])\n",
        "df_numeric = add_constant(df_numeric)\n",
        "# Calculate VIF for each feature\n",
        "vif_data = pd.DataFrame()\n",
        "vif_data[\"feature\"] = df_numeric.columns\n",
        "vif_data[\"VIF\"] = [variance_inflation_factor(df_numeric.values, i)\n",
        "                   for i in range(len(df_numeric.columns))]\n",
        "\n",
        "# Display the VIF values\n",
        "display(vif_data.sort_values(by='VIF', ascending=False))"
      ],
      "metadata": {
        "id": "L4Z5xVf2LAUB"
      },
      "execution_count": null,
      "outputs": []
    },
    {
      "cell_type": "markdown",
      "source": [
        "# Juntando Variaveis correlacionadas"
      ],
      "metadata": {
        "id": "RAuZC2yRWdNc"
      }
    },
    {
      "cell_type": "markdown",
      "source": [
        "Abaixo juntaremos as variáveis c_min e c_max usando a média das 2 baseado no heatmap plotado na seção acima que mostra que elas sao extremamente correlacioandas"
      ],
      "metadata": {
        "id": "uP-TDcEH80DM"
      }
    },
    {
      "cell_type": "code",
      "source": [
        "df['c_mean'] = (df['c_min'] + df['c_max']) / 2\n",
        "df = df.drop(columns=['c_min', 'c_max'])\n",
        "display(df.head())"
      ],
      "metadata": {
        "id": "vRgmiypR5kr3"
      },
      "execution_count": null,
      "outputs": []
    },
    {
      "cell_type": "markdown",
      "source": [
        "#Excluindo variáveis"
      ],
      "metadata": {
        "id": "42Dj6TML_9lQ"
      }
    },
    {
      "cell_type": "markdown",
      "metadata": {
        "id": "JfB-jQGX4oI9"
      },
      "source": [
        "# **Modelo**"
      ]
    },
    {
      "cell_type": "markdown",
      "metadata": {
        "id": "pn3gBZvY44Le"
      },
      "source": [
        "Separando a variável alvo (y) e as features (x)"
      ]
    },
    {
      "cell_type": "code",
      "source": [
        "# To display the head of the dataframe with more columns, use display() and set pandas options\n",
        "import pandas as pd\n",
        "\n",
        "pd.set_option('display.max_columns', 24)\n",
        "display(df.head())"
      ],
      "metadata": {
        "id": "u1qYqFcaMjNV"
      },
      "execution_count": null,
      "outputs": []
    },
    {
      "cell_type": "markdown",
      "source": [
        "#Mudando acoqualidade para variaveis não categóricas\n"
      ],
      "metadata": {
        "id": "-e_3H5F38fgL"
      }
    },
    {
      "cell_type": "code",
      "source": [
        "!pip install optbinning"
      ],
      "metadata": {
        "id": "aLcAcRkOUnHm"
      },
      "execution_count": null,
      "outputs": []
    },
    {
      "cell_type": "code",
      "source": [
        "from optbinning import ContinuousOptimalBinning\n",
        "\n",
        "optb = ContinuousOptimalBinning(name='Extracurricular Activities',dtype = 'categorical')\n",
        "optb.fit(df['acoqualidade'],df['temperaturasaidafp'])"
      ],
      "metadata": {
        "id": "KWDMfoFPTmFO"
      },
      "execution_count": null,
      "outputs": []
    },
    {
      "cell_type": "code",
      "source": [
        "len(df['acoqualidade'].unique())"
      ],
      "metadata": {
        "id": "PXLPHRE4WFJW"
      },
      "execution_count": null,
      "outputs": []
    },
    {
      "cell_type": "code",
      "source": [
        "optb.binning_table.build()"
      ],
      "metadata": {
        "id": "GgszcCtKXeyc"
      },
      "execution_count": null,
      "outputs": []
    },
    {
      "cell_type": "code",
      "source": [
        "import numpy as np\n",
        "\n",
        "# Get the binning table\n",
        "binning_table = optb.binning_table.build()\n",
        "\n",
        "# Create a new column for WoE values, initialized to NaN\n",
        "df['acoqualidade_woe_optb'] = np.nan\n",
        "df_copia['acoqualidade_woe_optb'] = np.nan\n",
        "# Iterate through the bins and assign the WoE value to the corresponding rows\n",
        "for i in range(16):\n",
        "    bin_values = binning_table.Bin[i]\n",
        "    woe_value = binning_table.WoE[i]\n",
        "\n",
        "    # Handle the 'Special' and 'Missing' bins if necessary (optional, depending on your data)\n",
        "    # Check if bin_values is the string 'Special' or 'Missing'\n",
        "    if isinstance(bin_values, str) and (bin_values == 'Special' or bin_values == 'Missing'):\n",
        "        # You might want to assign a specific WoE value or handle these cases differently\n",
        "        # For now, we'll skip them as they have 0 count in your current output\n",
        "        continue\n",
        "    else:\n",
        "        # For regular bins, check if the acoqualidade value is in the list of bin_values\n",
        "        # Ensure bin_values is treated as a list or array for checking membership\n",
        "        if isinstance(bin_values, (list, np.ndarray)):\n",
        "             df.loc[df['acoqualidade'].isin(bin_values), 'acoqualidade_woe_optb'] = woe_value\n",
        "             df_copia.loc[df_copia['acoqualidade'].isin(bin_values), 'acoqualidade_woe_optb'] = woe_value\n",
        "        else:\n",
        "             # Handle cases where bin_values might be a single value (less common for categorical)\n",
        "             df.loc[df['acoqualidade'] == bin_values, 'acoqualidade_woe_optb'] = woe_value\n",
        "             df_copia.loc[df_copia['acoqualidade'] == bin_values, 'acoqualidade_woe_optb'] = woe_value\n",
        "\n",
        "\n",
        "# Display the head of the dataframe with the new WoE column\n",
        "display(df[['acoqualidade', 'acoqualidade_woe_optb']].head())"
      ],
      "metadata": {
        "id": "9I42ABDnX3Ou"
      },
      "execution_count": null,
      "outputs": []
    },
    {
      "cell_type": "markdown",
      "metadata": {
        "id": "b4da7680"
      },
      "source": [
        "## Train and evaluate model\n",
        "\n",
        "### Subtask:\n",
        "Train the machine learning model (Random Forest Regressor in cell `4hpQrgAc6oYH`) using the data with the WoE transformed feature and evaluate its performance.\n"
      ]
    },
    {
      "cell_type": "code",
      "source": [
        "# Ensure df_binario is updated with the latest columns including 'c_mean' and 'acoqualidade_woe'\n",
        "# Recreate df_binario by dropping original categorical and min/max columns from df,\n",
        "# then concatenating with the one-hot encoded columns and the new c_mean column.\n",
        "variavel_alvo = 'temperaturasaidafp'\n",
        "# Identify columns to drop from the main dataframe for the numerical part of X\n",
        "# Only include columns that are definitely in df and should not be features\n",
        "columns_to_drop_from_df = [\n",
        "    'acoqualidade', # Original categorical column\n",
        "    'target_binary', # Binary target (if not using it)\n",
        "    variavel_alvo,  # Target variable\n",
        "    'temperaturamediareal', # As per previous logic to exclude this from features for predicting temperaturasaidafp\n",
        "    'velocidadereal', # As per previous logic to exclude this from features\n",
        "    'flag_nova_temperatura', # Flags are results, not features for prediction (assuming it exists)\n",
        "    'flag_original_range', # Flags are results, not features for prediction (assuming it exists)\n",
        "    'usage', # As per previous logic to exclude this from features (assuming it exists)\n",
        "    'sugestaomodelolegado' # As per previous logic to exclude this from features\n",
        "]\n",
        "\n",
        "# Filter columns_to_drop_from_df to only include those present in df.columns\n",
        "columns_to_drop_from_df = [col for col in columns_to_drop_from_df if col in df.columns]\n",
        "\n",
        "\n",
        "# The 'acoqualidade_woe_alg' column is now the numerical representation of the categorical feature using the user's WoE algorithm.\n",
        "# We will create the feature set X directly from df, selecting the relevant columns and dropping those not needed.\n",
        "# Exclude the original categorical columns, the target, legacy predictions, and the flags, and include the new WoE column.\n",
        "X = df.drop(columns=columns_to_drop_from_df, axis=1)\n",
        "\n",
        "# Define the target variable\n",
        "y = df[[variavel_alvo]]\n",
        "\n",
        "# Display the shapes of X and y to verify\n",
        "print(\"Shape of X:\", X.shape)\n",
        "print(\"Shape of y:\", y.shape)\n",
        "\n",
        "display(X.head())\n",
        "display(y.head())"
      ],
      "metadata": {
        "id": "ANr8xa0MPcxh"
      },
      "execution_count": null,
      "outputs": []
    },
    {
      "cell_type": "code",
      "source": [
        "sorted(list(X.columns))"
      ],
      "metadata": {
        "id": "SqhUQc80KF0e"
      },
      "execution_count": null,
      "outputs": []
    },
    {
      "cell_type": "code",
      "metadata": {
        "id": "4hpQrgAc6oYH"
      },
      "source": [
        "from sklearn.model_selection import train_test_split\n",
        "from sklearn.ensemble import RandomForestRegressor\n",
        "\n",
        "# Split data into training and testing sets\n",
        "x_train, x_test, y_train, y_test = train_test_split(X, y, test_size=0.2, random_state=42)\n",
        "\n",
        "# Initialize and train the RandomForestRegressor model\n",
        "novo_modelo = RandomForestRegressor(n_estimators=100, random_state=42,max_depth = 5)\n",
        "novo_modelo.fit(x_train, y_train)\n",
        "\n",
        "print(\"Model training complete.\")"
      ],
      "execution_count": null,
      "outputs": []
    },
    {
      "cell_type": "code",
      "source": [
        "from sklearn.tree import plot_tree\n",
        "import matplotlib.pyplot as plt\n",
        "\n",
        "# Pega a primeira árvore do Random Forest\n",
        "arvore = novo_modelo.estimators_[0]\n",
        "\n",
        "# Plota a árvore\n",
        "plt.figure(figsize=(20, 10))\n",
        "plot_tree(arvore, feature_names=X.columns, filled=True, max_depth=4, fontsize=10)\n",
        "plt.show()\n"
      ],
      "metadata": {
        "id": "pxa-QZIwJN0b"
      },
      "execution_count": null,
      "outputs": []
    },
    {
      "cell_type": "code",
      "source": [
        "import pandas as pd\n",
        "import matplotlib.pyplot as plt\n",
        "\n",
        "# Obter importâncias das features\n",
        "importancias = novo_modelo.feature_importances_\n",
        "\n",
        "# Criar um DataFrame para visualizar melhor\n",
        "feature_importance_df = pd.DataFrame({\n",
        "    'Feature': X.columns,\n",
        "    'Importance': importancias\n",
        "}).sort_values(by='Importance', ascending=False)\n",
        "\n",
        "# Exibir tabela de importâncias\n",
        "print(feature_importance_df)\n",
        "\n",
        "# Plotar gráfico de barras\n",
        "plt.figure(figsize=(10,6))\n",
        "plt.barh(feature_importance_df['Feature'], feature_importance_df['Importance'])\n",
        "plt.gca().invert_yaxis()  # inverter eixo para mostrar maior importância no topo\n",
        "plt.title('Importância das Features (RandomForest)')\n",
        "plt.xlabel('Importância')\n",
        "plt.ylabel('Features')\n",
        "plt.show()\n"
      ],
      "metadata": {
        "id": "f-HYo9MSH8PG"
      },
      "execution_count": null,
      "outputs": []
    },
    {
      "cell_type": "code",
      "source": [
        "import numpy as np\n",
        "from sklearn.metrics import mean_absolute_error, mean_squared_error, r2_score\n",
        "\n",
        "# Make predictions\n",
        "y_pred_novo = novo_modelo.predict(x_test)\n",
        "\n",
        "# Calculate evaluation metrics\n",
        "mae = mean_absolute_error(y_test, y_pred_novo)\n",
        "mse = mean_squared_error(y_test, y_pred_novo)\n",
        "rmse = np.sqrt(mse)  # Calculate RMSE manually\n",
        "r2 = r2_score(y_test, y_pred_novo)\n",
        "\n",
        "# Print the evaluation metrics\n",
        "print(f\"Mean Absolute Error (MAE): {mae:.2f}\")\n",
        "print(f\"Mean Squared Error (MSE): {mse:.2f}\")\n",
        "print(f\"Root Mean Squared Error (RMSE): {rmse:.2f}\")\n",
        "print(f\"R-squared (R2): {r2:.2f}\")"
      ],
      "metadata": {
        "id": "e-oQX26voXSC"
      },
      "execution_count": null,
      "outputs": []
    },
    {
      "cell_type": "code",
      "source": [
        "# --- Evaluate new model based on the -5 to +10 degree range from temperaturamediareal ---\n",
        "\n",
        "temperaturamediareal_test = df.loc[x_test.index, 'temperaturamediareal']\n",
        "temperaturaobjetivada_test = df.loc[x_test.index, 'temperaturaobjetivada']\n",
        "temperaturasaidafp_test = df.loc[x_test.index,'temperaturasaidafp']\n",
        "\n",
        "# Calculate the difference between predicted temperaturasaidafp and temperaturamediareal\n",
        "difference_pred_media = y_pred_novo - temperaturasaidafp_test\n",
        "\n",
        "# Calculate the new temperature by adding this difference to temperaturamediareal\n",
        "nova_temperatura_pred = temperaturamediareal_test + difference_pred_media\n",
        "\n",
        "\n",
        "# Check if the new calculated temperature is within the desired range of temperaturaobjetivada (-5 to +10)\n",
        "# The range is [temperaturaobjetivada - 5, temperaturaobjetivada + 10]\n",
        "is_within_range = (nova_temperatura_pred >= temperaturaobjetivada_test - 5) & \\\n",
        "                  (nova_temperatura_pred <= temperaturaobjetivada_test + 10)\n",
        "\n",
        "\n",
        "# Calculate the percentage of predictions within the range\n",
        "percentage_within_range = (is_within_range.sum() / len(y_test)) * 100\n",
        "\n",
        "print(\"\\n--- New Model Performance vs. Temperaturamediareal Range ---\")\n",
        "print(f\"Percentage of predictions within -5 to +10 degrees of temperaturaobjetivada: {percentage_within_range:.2f}%\")"
      ],
      "metadata": {
        "id": "VV6pe1C4vfIq"
      },
      "execution_count": null,
      "outputs": []
    },
    {
      "cell_type": "code",
      "source": [
        "# Ensure df_binario is updated with the latest columns including 'c_mean' and 'acoqualidade_woe'\n",
        "# Recreate df_binario by dropping original categorical and min/max columns from df,\n",
        "# then concatenating with the one-hot encoded columns and the new c_mean column.\n",
        "variavel_alvo = 'temperaturasaidafp'\n",
        "# Identify columns to drop from the main dataframe for the numerical part of X\n",
        "# Only include columns that are definitely in df and should not be features\n",
        "columns_to_drop_from_df = [\n",
        "    'acoqualidade', # Original categorical column\n",
        "    'target_binary', # Binary target (if not using it)\n",
        "    variavel_alvo,  # Target variable\n",
        "    'temperaturamediareal', # As per previous logic to exclude this from features for predicting temperaturasaidafp\n",
        "    'velocidadereal', # As per previous logic to exclude this from features\n",
        "    'flag_nova_temperatura', # Flags are results, not features for prediction (assuming it exists)\n",
        "    'usage', # As per previous logic to exclude this from features (assuming it exists)\n",
        "    'sugestaomodelolegado' # As per previous logic to exclude this from features\n",
        "]\n",
        "\n",
        "# Filter columns_to_drop_from_df to only include those present in df.columns\n",
        "columns_to_drop_from_df = [col for col in columns_to_drop_from_df if col in df.columns]\n",
        "\n",
        "\n",
        "# The 'acoqualidade_woe_alg' column is now the numerical representation of the categorical feature using the user's WoE algorithm.\n",
        "# We will create the feature set X directly from df, selecting the relevant columns and dropping those not needed.\n",
        "# Exclude the original categorical columns, the target, legacy predictions, and the flags, and include the new WoE column.\n",
        "X1 = df_copia.drop(columns=columns_to_drop_from_df, axis=1)\n",
        "\n",
        "# Define the target variable\n",
        "y1 = df_copia[[variavel_alvo]]\n",
        "\n",
        "# Display the shapes of X and y to verify\n",
        "print(\"Shape of X:\", X1.shape)\n",
        "print(\"Shape of y:\", y1.shape)\n",
        "\n",
        "display(X1.head())\n",
        "display(y1.head())"
      ],
      "metadata": {
        "id": "-qR7TNS_mcIq"
      },
      "execution_count": null,
      "outputs": []
    },
    {
      "cell_type": "code",
      "source": [
        "from sklearn.model_selection import train_test_split\n",
        "from sklearn.ensemble import RandomForestRegressor\n",
        "\n",
        "# Split data into training and testing sets\n",
        "x_train, x_test, y_train, y_test = train_test_split(X1, y1, test_size=0.2, random_state=42)\n",
        "\n",
        "# Initialize and train the RandomForestRegressor model\n",
        "novo_modelo = RandomForestRegressor(n_estimators=100, random_state=42,max_depth = 5)\n",
        "novo_modelo.fit(x_train, y_train)\n",
        "\n",
        "print(\"Model training complete.\")"
      ],
      "metadata": {
        "id": "uFBV9PR0m-w5"
      },
      "execution_count": null,
      "outputs": []
    },
    {
      "cell_type": "code",
      "source": [
        "import pandas as pd\n",
        "import matplotlib.pyplot as plt\n",
        "\n",
        "# Obter importâncias das features\n",
        "importancias = novo_modelo.feature_importances_\n",
        "\n",
        "# Criar um DataFrame para visualizar melhor\n",
        "feature_importance_df = pd.DataFrame({\n",
        "    'Feature': X1.columns,\n",
        "    'Importance': importancias\n",
        "}).sort_values(by='Importance', ascending=False)\n",
        "\n",
        "# Exibir tabela de importâncias\n",
        "print(feature_importance_df)\n",
        "\n",
        "# Plotar gráfico de barras\n",
        "plt.figure(figsize=(10,6))\n",
        "plt.barh(feature_importance_df['Feature'], feature_importance_df['Importance'])\n",
        "plt.gca().invert_yaxis()  # inverter eixo para mostrar maior importância no topo\n",
        "plt.title('Importância das Features (RandomForest)')\n",
        "plt.xlabel('Importância')\n",
        "plt.ylabel('Features')\n",
        "plt.show()\n"
      ],
      "metadata": {
        "id": "LjD_f0WvnLL0"
      },
      "execution_count": null,
      "outputs": []
    },
    {
      "cell_type": "code",
      "source": [
        "import numpy as np\n",
        "from sklearn.metrics import mean_absolute_error, mean_squared_error, r2_score\n",
        "\n",
        "# Make predictions\n",
        "y_pred_novo = novo_modelo.predict(x_test)\n",
        "\n",
        "# Calculate evaluation metrics\n",
        "mae = mean_absolute_error(y_test, y_pred_novo)\n",
        "mse = mean_squared_error(y_test, y_pred_novo)\n",
        "rmse = np.sqrt(mse)  # Calculate RMSE manually\n",
        "r2 = r2_score(y_test, y_pred_novo)\n",
        "\n",
        "# Print the evaluation metrics\n",
        "print(f\"Mean Absolute Error (MAE): {mae:.2f}\")\n",
        "print(f\"Mean Squared Error (MSE): {mse:.2f}\")\n",
        "print(f\"Root Mean Squared Error (RMSE): {rmse:.2f}\")\n",
        "print(f\"R-squared (R2): {r2:.2f}\")"
      ],
      "metadata": {
        "id": "XFbjV3hZniDh"
      },
      "execution_count": null,
      "outputs": []
    },
    {
      "cell_type": "code",
      "source": [
        "# --- Evaluate new model based on the -5 to +10 degree range from temperaturamediareal ---\n",
        "\n",
        "temperaturamediareal_test = df_copia.loc[x_test.index, 'temperaturamediareal']\n",
        "temperaturaobjetivada_test = df_copia.loc[x_test.index, 'temperaturaobjetivada']\n",
        "temperaturasaidafp_test = df_copia.loc[x_test.index,'temperaturasaidafp']\n",
        "\n",
        "# Calculate the difference between predicted temperaturasaidafp and temperaturamediareal\n",
        "difference_pred_media = y_pred_novo - temperaturasaidafp_test\n",
        "\n",
        "# Calculate the new temperature by adding this difference to temperaturamediareal\n",
        "nova_temperatura_pred = temperaturamediareal_test + difference_pred_media\n",
        "\n",
        "\n",
        "# Check if the new calculated temperature is within the desired range of temperaturaobjetivada (-5 to +10)\n",
        "# The range is [temperaturaobjetivada - 5, temperaturaobjetivada + 10]\n",
        "is_within_range = (nova_temperatura_pred >= temperaturaobjetivada_test - 5) & \\\n",
        "                  (nova_temperatura_pred <= temperaturaobjetivada_test + 10)\n",
        "\n",
        "\n",
        "# Calculate the percentage of predictions within the range\n",
        "percentage_within_range = (is_within_range.sum() / len(y_test)) * 100\n",
        "\n",
        "print(\"\\n--- New Model Performance vs. Temperaturamediareal Range ---\")\n",
        "print(f\"Percentage of predictions within -5 to +10 degrees of temperaturaobjetivada: {percentage_within_range:.2f}%\")"
      ],
      "metadata": {
        "id": "nEmBnhy-nlzQ"
      },
      "execution_count": null,
      "outputs": []
    }
  ],
  "metadata": {
    "colab": {
      "provenance": [],
      "collapsed_sections": [
        "GE2uEqGv2L5d",
        "Jenqcfs-ShTk",
        "bOb8lkGBE6jn",
        "xyZwjcEBMBSt"
      ],
      "include_colab_link": true
    },
    "kernelspec": {
      "display_name": "Python 3",
      "name": "python3"
    },
    "language_info": {
      "name": "python"
    }
  },
  "nbformat": 4,
  "nbformat_minor": 0
}